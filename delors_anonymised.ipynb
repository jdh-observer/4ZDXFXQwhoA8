{
 "cells": [
  {
   "cell_type": "code",
   "execution_count": 3,
   "metadata": {
    "ExecuteTime": {
     "end_time": "2024-01-12T13:50:59.080479Z",
     "start_time": "2024-01-12T13:50:56.885371Z"
    }
   },
   "outputs": [
    {
     "name": "stdout",
     "output_type": "stream",
     "text": [
      "Python 3.8.5\r\n"
     ]
    }
   ],
   "source": [
    "!python --version"
   ]
  },
  {
   "cell_type": "code",
   "execution_count": 4,
   "metadata": {
    "ExecuteTime": {
     "end_time": "2024-01-12T13:51:02.999529Z",
     "start_time": "2024-01-12T13:50:59.083495Z"
    }
   },
   "outputs": [
    {
     "name": "stdout",
     "output_type": "stream",
     "text": [
      "\u001b[1m\r\n",
      "============================== Info about spaCy ==============================\u001b[0m\r\n",
      "\r\n",
      "spaCy version    3.5.0                         \r\n",
      "Location         /Users/elisabeth.guerard/.pyenv/versions/anaconda3-2020.11/lib/python3.8/site-packages/spacy\r\n",
      "Platform         macOS-10.16-x86_64-i386-64bit \r\n",
      "Python version   3.8.5                         \r\n",
      "Pipelines        en_core_web_sm (3.5.0)        \r\n",
      "\r\n"
     ]
    }
   ],
   "source": [
    "!python -m spacy info"
   ]
  },
  {
   "cell_type": "code",
   "execution_count": 9,
   "metadata": {
    "ExecuteTime": {
     "end_time": "2024-01-12T13:53:48.130431Z",
     "start_time": "2024-01-12T13:53:44.462466Z"
    }
   },
   "outputs": [
    {
     "name": "stdout",
     "output_type": "stream",
     "text": [
      "Traceback (most recent call last):\r\n",
      "  File \"/Users/elisabeth.guerard/.pyenv/versions/anaconda3-2020.11/lib/python3.8/runpy.py\", line 185, in _run_module_as_main\r\n",
      "    mod_name, mod_spec, code = _get_module_details(mod_name, _Error)\r\n",
      "  File \"/Users/elisabeth.guerard/.pyenv/versions/anaconda3-2020.11/lib/python3.8/runpy.py\", line 144, in _get_module_details\r\n",
      "    return _get_module_details(pkg_main_name, error)\r\n",
      "  File \"/Users/elisabeth.guerard/.pyenv/versions/anaconda3-2020.11/lib/python3.8/runpy.py\", line 111, in _get_module_details\r\n",
      "    __import__(pkg_name)\r\n",
      "  File \"/Users/elisabeth.guerard/.pyenv/versions/anaconda3-2020.11/lib/python3.8/site-packages/gensim/__init__.py\", line 11, in <module>\r\n",
      "    from gensim import parsing, corpora, matutils, interfaces, models, similarities, utils  # noqa:F401\r\n",
      "  File \"/Users/elisabeth.guerard/.pyenv/versions/anaconda3-2020.11/lib/python3.8/site-packages/gensim/corpora/__init__.py\", line 6, in <module>\r\n",
      "    from .indexedcorpus import IndexedCorpus  # noqa:F401 must appear before the other classes\r\n",
      "  File \"/Users/elisabeth.guerard/.pyenv/versions/anaconda3-2020.11/lib/python3.8/site-packages/gensim/corpora/indexedcorpus.py\", line 14, in <module>\r\n",
      "    from gensim import interfaces, utils\r\n",
      "  File \"/Users/elisabeth.guerard/.pyenv/versions/anaconda3-2020.11/lib/python3.8/site-packages/gensim/interfaces.py\", line 19, in <module>\r\n",
      "    from gensim import utils, matutils\r\n",
      "  File \"/Users/elisabeth.guerard/.pyenv/versions/anaconda3-2020.11/lib/python3.8/site-packages/gensim/matutils.py\", line 1030, in <module>\r\n",
      "    from gensim._matutils import logsumexp, mean_absolute_difference, dirichlet_expectation\r\n",
      "  File \"gensim/_matutils.pyx\", line 1, in init gensim._matutils\r\n",
      "ValueError: numpy.ndarray size changed, may indicate binary incompatibility. Expected 96 from C header, got 88 from PyObject\r\n"
     ]
    }
   ],
   "source": [
    "!python -m gensim info"
   ]
  },
  {
   "cell_type": "markdown",
   "metadata": {
    "citation-manager": {
     "citations": {
      "": []
     }
    },
    "tags": [
     "title"
    ]
   },
   "source": [
    "# Economic union in the debates on the creation of the euro: new evidence from the tapes of the Delors Committee meetings"
   ]
  },
  {
   "cell_type": "markdown",
   "metadata": {
    "tags": [
     "copyright"
    ]
   },
   "source": [
    "[![cc-by](https://licensebuttons.net/l/by/4.0/88x31.png)](https://creativecommons.org/licenses/by/4.0/) \n",
    "©<AUTHOR or ORGANIZATION / FUNDER>. Published by De Gruyter in cooperation with the University of Luxembourg Centre for Contemporary and Digital History. This is an Open Access article distributed under the terms of the [Creative Commons Attribution License CC-BY](https://creativecommons.org/licenses/by/4.0/)\n"
   ]
  },
  {
   "cell_type": "markdown",
   "metadata": {
    "ExecuteTime": {
     "end_time": "2024-01-12T08:55:58.795825Z",
     "start_time": "2024-01-12T08:55:57.981099Z"
    },
    "tags": [
     "cover"
    ]
   },
   "source": [
    "NO COVER"
   ]
  },
  {
   "cell_type": "markdown",
   "metadata": {
    "tags": [
     "disclaimer"
    ]
   },
   "source": [
    " "
   ]
  },
  {
   "cell_type": "markdown",
   "metadata": {
    "tags": [
     "acknowledgements"
    ]
   },
   "source": [
    "The authors would like to thank Mathias Weber and Ross Higgins from the ECB Archives for their invaluable help, as well as the participants of the Workshop “Digital Methods in History and Economics” organised by the University of Hamburg in October 2021 and Frédéric Clavert for their comments on earlier drafts of this paper. This project has received funding from the European Research Council (ERC) under the European Union’s Horizon 2020 research and innovation programme (grant agreement No. 716849)"
   ]
  },
  {
   "cell_type": "markdown",
   "metadata": {
    "tags": [
     "keywords"
    ]
   },
   "source": [
    "Economic and Monetary Union (EMU), euro, banking regulation, banking supervision, Delors Committee, Delors Report, regional policy, unemployment, fiscal transfers, text mining"
   ]
  },
  {
   "cell_type": "markdown",
   "metadata": {
    "tags": [
     "abstract"
    ]
   },
   "source": [
    "Economic union is often said to have been overlooked in the negotiations on the creation of the euro. While there are many accounts of the government and central bankers’ negotiations to create the European single currency, the discussions within the Delors Committee which drafted a report outlining how to create an Economic and Monetary Union provide unique insights into the debates. Through a mixed-method analysis combining several text mining and network analysis techniques with a close reading of the transcripts, and a listening of the tapes, the article explores the debates that took place within the Committee. We identify which, when, by whom, and to what extent were different topics raised in the Committee, and find that economic union was the second most discussed topic during the Committee’s meetings, after the design and functioning of the future European central bank. The article further shows that the real absence from the debates was the question of banking regulation and supervision."
   ]
  },
  {
   "cell_type": "markdown",
   "metadata": {
    "tags": [
     "narrative"
    ]
   },
   "source": [
    "## Introduction"
   ]
  },
  {
   "cell_type": "markdown",
   "metadata": {
    "tags": [
     "narrative"
    ]
   },
   "source": [
    "A well-established criticism against Economic and Monetary Union (EMU) as created in 1992 is that it overlooked the economic dimension of monetary union (for example, <cite data-cite=\"14286898/YZW4P3TU\"></cite>). How could the member states of the future monetary union compensate for the disappearance of the tool of exchange rate adjustment? Shouldn’t a greater European redistributive budget be created, a credible system for national economic policy coordination be put in place, and a coherent framework of banking regulation and supervision be set up? In spite of its name, EMU debates and negotiations leading up to the signature of the Maastricht Treaty would have sidelined ‘economic union’ to focus on monetary union alone. "
   ]
  },
  {
   "cell_type": "markdown",
   "metadata": {
    "tags": [
     "narrative"
    ]
   },
   "source": [
    "Among the debates that took place in the second half of the 1980s, the work of the so-called Delors Committee was instrumental in the making of EMU. The June 1988 European Council held in Hannover mandated a Committee chaired by President of the European Commission Jacques Delors to examine and propose concrete stages for the creation of a European Economic and Monetary Union (EMU). The Committee was composed of the twelve central bank governors of the European Economic Community (EEC) member states, the Commissioner in charge of agriculture Frans Andriessen, the General Manager of the Bank for International Settlements (BIS) Alexandre Lamfalussy, and the former Spanish finance minister Miguel Boyer. Two rapporteurs assisted the work of the Committee, Gunter Baer (BIS) and Tommaso Padoa-Schioppa (Banca d’Italia) <cite data-cite=\"14286898/XBZ8M5FL\"></cite>. The Committee met eight times, from September 1988 until April 1989. The Delors Committee published its final report on how to reach EMU, known as the Delors Report, in April 1989. The Delors Report made its way into the Maastricht Treaty with only a few minor changes. For more details on the members of the Delors Committee, see <cite data-cite=\"14286898/Y49HD6AV\"></cite> (pp.463-475). "
   ]
  },
  {
   "cell_type": "markdown",
   "metadata": {
    "tags": [
     "narrative"
    ]
   },
   "source": [
    "In this contribution, we examine closely the debates that took place in the Delors Committee, in order to better understand how its members reflected on ”economic union”.  With the benefit of hindsight, the Delors Committee and its Report have taken centre stage in analyses of the making of EMU, but the contemporaries’ impression was not that of having made history. It is famously recounted that when invited to write a paper in the Princeton International Economics Series, one of the rapporteurs, Padoa-Schioppa, turned down the offer as he doubted the report would become important <cite data-cite=\"14286898/WIFIUGXD\"></cite>. However the Delors Report, for its greatest parts, made it through to the Maastricht Treaty; and its members — central bank governors and three experts — were central actors in the process. "
   ]
  },
  {
   "cell_type": "markdown",
   "metadata": {
    "tags": [
     "narrative"
    ]
   },
   "source": [
    "Being such an important milestone on the road to Maastricht, the work of the Delors Committee is frequently analysed through the lens of how the Committee members managed to find an agreement <cite data-cite=\"14286898/YZW4P3TU\"></cite>. Central bankers were perceived as reluctant to EMU. In particular, the presence of two central bankers considered to be sceptical towards EMU, the president of the Bundesbank Karl-Otto Pöhl and the governor of the Bank of England Robin Leigh-Pemberton, further reinforces this view. Verdun examined whether the adoption of EMU in 1992 was rooted in consensus among monetary experts, specifically looking at the Delors Committee, and concluding that this Committee formed an epistemic community <cite data-cite=\"14286898/ESREKQ9Y\"></cite>. Historians also mostly looked into this question from the same angle (<cite data-cite=\"14286898/88PNZ7P8\"></cite>, <cite data-cite=\"14286898/PZ7Y5QYP\"></cite>, <cite data-cite=\"14286898/PCBQZZ9M\"></cite>, <cite data-cite=\"14286898/M7TTE5P4\"></cite>, <cite data-cite=\"14286898/4AIUVZB6\"></cite>, <cite data-cite=\"14286898/F4JPP4FL\"></cite>). Harold James analysed how the members of the Delors Committee worked to find an agreement on the Report, making use of the records of the meetings, supported by some references to the tapes, in his analysis <cite data-cite=\"14286898/WIFIUGXD\"></cite>). "
   ]
  },
  {
   "cell_type": "markdown",
   "metadata": {
    "tags": [
     "narrative"
    ]
   },
   "source": [
    "By contrast, this article aims to analyse what the Committee actually discussed, rather than what the Committee published (the Delors Report). Our question is not so much “why EMU happened?” but is rather ”why has the Maastricht construct been so lopsided?” We now know why EMU happened; but the literature still overlooks why and how the ‘E’ of EMU has been neglected, or at least did not lead to a ‘symmetrical’ EMU. A closer analysis of the discussions that took place within the Committee can contribute to answer that question. Unusually for such gatherings, the meetings of the Delors Committee have been recorded on tape (47 hours of audible length), and partly transcribed word-for-word (about 90,000 words). The article uses these primary sources to analyse the discussions of the Committee, alongside the detailed inventory of the tapes, the rest of the archives of Committee, and the handwritten notes taken during the meetings by the two rapporteurs, Baer and Padoa-Schioppa <cite data-cite=\"14286898/XBZ8M5FL\"></cite>. The article uses mixed methods, that is, a quantitative text analysis based on the meetings’ transcripts, alongside a qualitative analysis of the Committee’s discussions both transcribed and in the recorded tapes. "
   ]
  },
  {
   "cell_type": "markdown",
   "metadata": {
    "tags": [
     "narrative"
    ]
   },
   "source": [
    "Based on such a primary source, how can one evidence what the Delors Committee discussions were about? Reading the transcripts and listening to the tapes leaves little doubt about the fact that the Delors Committee members did alert multiple times about the consequences that irrevocably fixing exchange rates would have for the economic policy of the member states, and that the economic dimension of monetary union should be developed as the EEC/EU progresses towards the single currency. However, how can one translate this into historical evidence? Given the type of primary sources we used (tapes of the meeting, transcription of the records, preparatory notes, handwritten notes of the meetings) a mixed methods approach seemed to us the most appropriate. Unlike in the case of the Nixon tapes, for instance, we can use of the extensive word-for-word transcription of the debates <cite data-cite=\"14286898/49X25EH2\"></cite>. Quotations from the transcript, alone, would not convey the quantitative extent to which some topics were raised, and by whom. Conversely, numerical additions alone of what topic was raised when and by whom would fail to contextualise the quality and value of the issues at stake."
   ]
  },
  {
   "cell_type": "markdown",
   "metadata": {
    "tags": [
     "narrative"
    ]
   },
   "source": [
    "In order to show how and to what extent the Delors Committee discussed policy issues related to ‘economic union,’ this article proceeds in three steps. At each step, we intertwined the narrative with an analysis of the hermeneutics behind and the data we use and present. First, we explore who spoke about what during the Committee meetings, using entity recognition on the transcription of the Committee’s debates. Second, we analyse what topics were raised during the discussions, based on a topic modelling of the transcribed records, contrasted with references to the tapes that have not been transcribed. Third, we investigate what papers were distributed and not distributed to the Committee to further illustrate the substance of the Committee’s debates."
   ]
  },
  {
   "cell_type": "markdown",
   "metadata": {
    "tags": [
     "narrative"
    ]
   },
   "source": [
    "## Dataset construction"
   ]
  },
  {
   "cell_type": "markdown",
   "metadata": {
    "tags": [
     "narrative"
    ]
   },
   "source": [
    "In this paper, we present a novel dataset containing textual information from the recorded discussions that took place in the Delors Committee and that have been made available by the Historical Archives of the European Central Bank (available at: https://www.ecb.europa.eu/ecb/access_to_documents/archives/delors/html/index.en.html)."
   ]
  },
  {
   "cell_type": "markdown",
   "metadata": {
    "tags": [
     "narrative"
    ]
   },
   "source": [
    "In opening the first meeting, Delors asked: _“would you agree to the discussions being recorded and to being kept in great secrecy here at the BIS or are you against recording? I leave the decision to you. It is obvious that the rapporteurs will note the main points, but some things may escape their attention and it would be very helpful to them if we had a tape which they could refer to, a tape which would be kept here confidentially. Would you agree to this, Mr. Governors?”_"
   ]
  },
  {
   "cell_type": "markdown",
   "metadata": {
    "tags": [
     "narrative"
    ]
   },
   "source": [
    "The governors agreed, and Delors added that _“You will be able to look them up \\[the records\\] and read them here. You can even listen to part of the tape if you wish, but here.”_ The records available are a word-for-word transcript of the tape that recorded the conversations in the Committee. It is however noticeable that the records contain gaps. Figure 1 provides the example of the very beginning of the first meeting of the Delors Committee. The numbers in brackets correspond to the reference points in the tapes. We can see that president of the Bundesbank Karl-Otto Pöhl spoke from 134 to 136, then Delors from 137 to 159, but that the next speaker in the page, governor of the Bank of England Robin Leigh-Pemberton, starts at 457. We can also see marks at the end of Delors’ intervention and at the beginning of Leigh-Pemberton’s intervention which imply that their interventions have not been transcribed in full. The interventions between points 160 and 456 of the tape are therefore missing. We will come back to this in the next section."
   ]
  },
  {
   "cell_type": "code",
   "execution_count": 5,
   "metadata": {
    "ExecuteTime": {
     "end_time": "2024-01-12T13:51:03.027449Z",
     "start_time": "2024-01-12T13:51:03.005623Z"
    },
    "tags": [
     "figure-1"
    ]
   },
   "outputs": [
    {
     "data": {
      "image/jpeg": "[encoded data removed]",
      "text/plain": [
       "<IPython.core.display.Image object>"
      ]
     },
     "metadata": {
      "jdh": {
       "module": "object",
       "object": {
        "source": [
         "Excerpt of the transcript of the tapes of the first meeting of the Delors Committee, 13 September 1988 available at https://www.ecb.europa.eu/ecb/access_to_documents/archives/delors/documents/shared/data/ecb.dr.delors880916_TranscriptionFirstMeeting.en.pdf?5d01ca39f8b12f73e7e476eb5986518a"
        ],
        "type": "image"
       }
      }
     },
     "output_type": "display_data"
    }
   ],
   "source": [
    "from IPython.display import Image, display\n",
    "metadata = {\n",
    "    \"jdh\":{\n",
    "        \"module\": \"object\",\n",
    "        \"object\": {\n",
    "            \"type\": \"image\",\n",
    "            \"source\": [\n",
    "                \"Excerpt of the transcript of the tapes of the first meeting of the Delors Committee, 13 September 1988 available at https://www.ecb.europa.eu/ecb/access_to_documents/archives/delors/documents/shared/data/ecb.dr.delors880916_TranscriptionFirstMeeting.en.pdf?5d01ca39f8b12f73e7e476eb5986518a\"\n",
    "            ]\n",
    "        }\n",
    "    }\n",
    "}\n",
    "\n",
    "display(Image(\"./media/fig1.jpg\"), metadata=metadata)"
   ]
  },
  {
   "cell_type": "markdown",
   "metadata": {
    "tags": [
     "narrative"
    ]
   },
   "source": [
    "In order to construct the dataset, we started by collecting all the scanned documents, containing the typewrote transcriptions of the meetings. In turn, we performed Optical Character Recognition (OCR) in order to convert the scans into machine-readable content. Since this process depends on the quality of the scans and is prone to generate typos and mistakes during the conversion, we manually corrected all discrepancies and errors in the digitisation process.  Thus, we obtained a dataset containing of 230 interventions, across the eight meetings. We manually curated the metadata for each intervention, such as: annotating speakers, speaking time, the manually checked and digitised text, and the reference to the tapes present in the original documents. \n",
    "These references to the tapes allowed us to infer information about speaking time of each intervention, and also about the non-recorded parts of the discussions. In the next subsection, we provide further information into the process of reconstructing the extent of missing transcription, by leveraging speaking time and information obtained from the European Central Bank Archives."
   ]
  },
  {
   "cell_type": "code",
   "execution_count": 6,
   "metadata": {
    "ExecuteTime": {
     "end_time": "2024-01-12T13:51:03.033722Z",
     "start_time": "2024-01-12T13:51:03.031374Z"
    },
    "tags": [
     "hermeneutics"
    ]
   },
   "outputs": [],
   "source": [
    "### code for performing OCR on ECB textual documents\n",
    "#! cd scripts/OCR_IMAGES && python3 OCR_pdfs.py\n",
    "\n",
    "### this files were in turn manually cleaned, translated, and aggregated into \"script/delors.csv\""
   ]
  },
  {
   "cell_type": "markdown",
   "metadata": {
    "tags": [
     "narrative"
    ]
   },
   "source": [
    "### Understanding missingness in transcriptions"
   ]
  },
  {
   "cell_type": "markdown",
   "metadata": {
    "tags": [
     "narrative"
    ]
   },
   "source": [
    "While being a novel and rich source of information, these transcripts are indeed not complete. How can we evaluate what is missing and what has been incompletely transcribed? The ECB archivist Matthias Weber established a detailed inventory at intervention level of the tapes. <cite data-cite=\"14286898/XBZ8M5FL\"></cite>\n",
    "\n",
    "This means that each line of the 157 pages long inventory indicates when a member starts speaking and when he stops (by every second). In particular, Weber identified the transcription of the tape under three categories: complete, not included and abridged. The category abridged means that the intervention was not included in full, only in part, but it remained a word by word transcription. Based on this data, we have calculated that 10 hours and 30 minutes of recording have been transcribed in full, 2 hours and 15 minutes have been abridged in the transcription and 9 hours and 15 minutes are not included."
   ]
  },
  {
   "cell_type": "code",
   "execution_count": 7,
   "metadata": {
    "ExecuteTime": {
     "end_time": "2024-01-12T13:51:09.151286Z",
     "start_time": "2024-01-12T13:51:03.036330Z"
    },
    "tags": [
     "hermeneutics"
    ]
   },
   "outputs": [
    {
     "name": "stderr",
     "output_type": "stream",
     "text": [
      "[nltk_data] Downloading package stopwords to\n",
      "[nltk_data]     /Users/elisabeth.guerard/nltk_data...\n",
      "[nltk_data]   Package stopwords is already up-to-date!\n",
      "[nltk_data] Downloading package punkt to\n",
      "[nltk_data]     /Users/elisabeth.guerard/nltk_data...\n",
      "[nltk_data]   Package punkt is already up-to-date!\n"
     ]
    },
    {
     "ename": "ValueError",
     "evalue": "numpy.ndarray size changed, may indicate binary incompatibility. Expected 96 from C header, got 88 from PyObject",
     "output_type": "error",
     "traceback": [
      "\u001b[0;31m---------------------------------------------------------------------------\u001b[0m",
      "\u001b[0;31mValueError\u001b[0m                                Traceback (most recent call last)",
      "\u001b[0;32m<ipython-input-7-ec38be7345a0>\u001b[0m in \u001b[0;36m<module>\u001b[0;34m\u001b[0m\n\u001b[1;32m     27\u001b[0m \u001b[0;32mimport\u001b[0m \u001b[0mre\u001b[0m\u001b[0;34m\u001b[0m\u001b[0;34m\u001b[0m\u001b[0m\n\u001b[1;32m     28\u001b[0m \u001b[0;34m\u001b[0m\u001b[0m\n\u001b[0;32m---> 29\u001b[0;31m \u001b[0;32mfrom\u001b[0m \u001b[0mgensim\u001b[0m\u001b[0;34m.\u001b[0m\u001b[0mutils\u001b[0m \u001b[0;32mimport\u001b[0m \u001b[0msimple_preprocess\u001b[0m\u001b[0;34m\u001b[0m\u001b[0;34m\u001b[0m\u001b[0m\n\u001b[0m\u001b[1;32m     30\u001b[0m \u001b[0;32mfrom\u001b[0m \u001b[0mgensim\u001b[0m\u001b[0;34m.\u001b[0m\u001b[0mmodels\u001b[0m \u001b[0;32mimport\u001b[0m \u001b[0mPhrases\u001b[0m\u001b[0;34m\u001b[0m\u001b[0;34m\u001b[0m\u001b[0m\n\u001b[1;32m     31\u001b[0m \u001b[0;32mfrom\u001b[0m \u001b[0mgensim\u001b[0m \u001b[0;32mimport\u001b[0m \u001b[0mcorpora\u001b[0m\u001b[0;34m\u001b[0m\u001b[0;34m\u001b[0m\u001b[0m\n",
      "\u001b[0;32m~/.pyenv/versions/anaconda3-2020.11/lib/python3.8/site-packages/gensim/__init__.py\u001b[0m in \u001b[0;36m<module>\u001b[0;34m\u001b[0m\n\u001b[1;32m      9\u001b[0m \u001b[0;32mimport\u001b[0m \u001b[0mlogging\u001b[0m\u001b[0;34m\u001b[0m\u001b[0;34m\u001b[0m\u001b[0m\n\u001b[1;32m     10\u001b[0m \u001b[0;34m\u001b[0m\u001b[0m\n\u001b[0;32m---> 11\u001b[0;31m \u001b[0;32mfrom\u001b[0m \u001b[0mgensim\u001b[0m \u001b[0;32mimport\u001b[0m \u001b[0mparsing\u001b[0m\u001b[0;34m,\u001b[0m \u001b[0mcorpora\u001b[0m\u001b[0;34m,\u001b[0m \u001b[0mmatutils\u001b[0m\u001b[0;34m,\u001b[0m \u001b[0minterfaces\u001b[0m\u001b[0;34m,\u001b[0m \u001b[0mmodels\u001b[0m\u001b[0;34m,\u001b[0m \u001b[0msimilarities\u001b[0m\u001b[0;34m,\u001b[0m \u001b[0mutils\u001b[0m  \u001b[0;31m# noqa:F401\u001b[0m\u001b[0;34m\u001b[0m\u001b[0;34m\u001b[0m\u001b[0m\n\u001b[0m\u001b[1;32m     12\u001b[0m \u001b[0;34m\u001b[0m\u001b[0m\n\u001b[1;32m     13\u001b[0m \u001b[0;34m\u001b[0m\u001b[0m\n",
      "\u001b[0;32m~/.pyenv/versions/anaconda3-2020.11/lib/python3.8/site-packages/gensim/corpora/__init__.py\u001b[0m in \u001b[0;36m<module>\u001b[0;34m\u001b[0m\n\u001b[1;32m      4\u001b[0m \u001b[0;34m\u001b[0m\u001b[0m\n\u001b[1;32m      5\u001b[0m \u001b[0;31m# bring corpus classes directly into package namespace, to save some typing\u001b[0m\u001b[0;34m\u001b[0m\u001b[0;34m\u001b[0m\u001b[0;34m\u001b[0m\u001b[0m\n\u001b[0;32m----> 6\u001b[0;31m \u001b[0;32mfrom\u001b[0m \u001b[0;34m.\u001b[0m\u001b[0mindexedcorpus\u001b[0m \u001b[0;32mimport\u001b[0m \u001b[0mIndexedCorpus\u001b[0m  \u001b[0;31m# noqa:F401 must appear before the other classes\u001b[0m\u001b[0;34m\u001b[0m\u001b[0;34m\u001b[0m\u001b[0m\n\u001b[0m\u001b[1;32m      7\u001b[0m \u001b[0;34m\u001b[0m\u001b[0m\n\u001b[1;32m      8\u001b[0m \u001b[0;32mfrom\u001b[0m \u001b[0;34m.\u001b[0m\u001b[0mmmcorpus\u001b[0m \u001b[0;32mimport\u001b[0m \u001b[0mMmCorpus\u001b[0m  \u001b[0;31m# noqa:F401\u001b[0m\u001b[0;34m\u001b[0m\u001b[0;34m\u001b[0m\u001b[0m\n",
      "\u001b[0;32m~/.pyenv/versions/anaconda3-2020.11/lib/python3.8/site-packages/gensim/corpora/indexedcorpus.py\u001b[0m in \u001b[0;36m<module>\u001b[0;34m\u001b[0m\n\u001b[1;32m     12\u001b[0m \u001b[0;32mimport\u001b[0m \u001b[0mnumpy\u001b[0m\u001b[0;34m\u001b[0m\u001b[0;34m\u001b[0m\u001b[0m\n\u001b[1;32m     13\u001b[0m \u001b[0;34m\u001b[0m\u001b[0m\n\u001b[0;32m---> 14\u001b[0;31m \u001b[0;32mfrom\u001b[0m \u001b[0mgensim\u001b[0m \u001b[0;32mimport\u001b[0m \u001b[0minterfaces\u001b[0m\u001b[0;34m,\u001b[0m \u001b[0mutils\u001b[0m\u001b[0;34m\u001b[0m\u001b[0;34m\u001b[0m\u001b[0m\n\u001b[0m\u001b[1;32m     15\u001b[0m \u001b[0;34m\u001b[0m\u001b[0m\n\u001b[1;32m     16\u001b[0m \u001b[0mlogger\u001b[0m \u001b[0;34m=\u001b[0m \u001b[0mlogging\u001b[0m\u001b[0;34m.\u001b[0m\u001b[0mgetLogger\u001b[0m\u001b[0;34m(\u001b[0m\u001b[0m__name__\u001b[0m\u001b[0;34m)\u001b[0m\u001b[0;34m\u001b[0m\u001b[0;34m\u001b[0m\u001b[0m\n",
      "\u001b[0;32m~/.pyenv/versions/anaconda3-2020.11/lib/python3.8/site-packages/gensim/interfaces.py\u001b[0m in \u001b[0;36m<module>\u001b[0;34m\u001b[0m\n\u001b[1;32m     17\u001b[0m \u001b[0;32mimport\u001b[0m \u001b[0mlogging\u001b[0m\u001b[0;34m\u001b[0m\u001b[0;34m\u001b[0m\u001b[0m\n\u001b[1;32m     18\u001b[0m \u001b[0;34m\u001b[0m\u001b[0m\n\u001b[0;32m---> 19\u001b[0;31m \u001b[0;32mfrom\u001b[0m \u001b[0mgensim\u001b[0m \u001b[0;32mimport\u001b[0m \u001b[0mutils\u001b[0m\u001b[0;34m,\u001b[0m \u001b[0mmatutils\u001b[0m\u001b[0;34m\u001b[0m\u001b[0;34m\u001b[0m\u001b[0m\n\u001b[0m\u001b[1;32m     20\u001b[0m \u001b[0;34m\u001b[0m\u001b[0m\n\u001b[1;32m     21\u001b[0m \u001b[0;34m\u001b[0m\u001b[0m\n",
      "\u001b[0;32m~/.pyenv/versions/anaconda3-2020.11/lib/python3.8/site-packages/gensim/matutils.py\u001b[0m in \u001b[0;36m<module>\u001b[0;34m\u001b[0m\n\u001b[1;32m   1028\u001b[0m \u001b[0;32mtry\u001b[0m\u001b[0;34m:\u001b[0m\u001b[0;34m\u001b[0m\u001b[0;34m\u001b[0m\u001b[0m\n\u001b[1;32m   1029\u001b[0m     \u001b[0;31m# try to load fast, cythonized code if possible\u001b[0m\u001b[0;34m\u001b[0m\u001b[0;34m\u001b[0m\u001b[0;34m\u001b[0m\u001b[0m\n\u001b[0;32m-> 1030\u001b[0;31m     \u001b[0;32mfrom\u001b[0m \u001b[0mgensim\u001b[0m\u001b[0;34m.\u001b[0m\u001b[0m_matutils\u001b[0m \u001b[0;32mimport\u001b[0m \u001b[0mlogsumexp\u001b[0m\u001b[0;34m,\u001b[0m \u001b[0mmean_absolute_difference\u001b[0m\u001b[0;34m,\u001b[0m \u001b[0mdirichlet_expectation\u001b[0m\u001b[0;34m\u001b[0m\u001b[0;34m\u001b[0m\u001b[0m\n\u001b[0m\u001b[1;32m   1031\u001b[0m \u001b[0;34m\u001b[0m\u001b[0m\n\u001b[1;32m   1032\u001b[0m \u001b[0;32mexcept\u001b[0m \u001b[0mImportError\u001b[0m\u001b[0;34m:\u001b[0m\u001b[0;34m\u001b[0m\u001b[0;34m\u001b[0m\u001b[0m\n",
      "\u001b[0;32m~/.pyenv/versions/anaconda3-2020.11/lib/python3.8/site-packages/gensim/_matutils.pyx\u001b[0m in \u001b[0;36minit gensim._matutils\u001b[0;34m()\u001b[0m\n",
      "\u001b[0;31mValueError\u001b[0m: numpy.ndarray size changed, may indicate binary incompatibility. Expected 96 from C header, got 88 from PyObject"
     ]
    }
   ],
   "source": [
    "import pandas as pd\n",
    "from datetime import datetime\n",
    "import numpy as np\n",
    "from time import strftime, gmtime\n",
    "\n",
    "import networkx as nx\n",
    "\n",
    "import spacy\n",
    "from multiprocess import Pool\n",
    "from ast import literal_eval\n",
    "from spacy.lang.en import English\n",
    "\n",
    "import matplotlib.pyplot as plt\n",
    "import matplotlib.colors as mcolors\n",
    "%matplotlib inline\n",
    "\n",
    "import nltk\n",
    "from nltk.corpus import stopwords\n",
    "from nltk.probability import FreqDist\n",
    "nltk.download('stopwords')\n",
    "nltk.download('punkt')\n",
    "\n",
    "from tqdm.auto import tqdm\n",
    "tqdm.pandas()\n",
    "\n",
    "from string import punctuation\n",
    "import re\n",
    "\n",
    "from gensim.utils import simple_preprocess\n",
    "from gensim.models import Phrases\n",
    "from gensim import corpora\n",
    "import gensim\n",
    "\n",
    "import tomotopy as tp\n",
    "\n",
    "# python3 -m spacy download en_core_web_sm\n",
    "nlp = spacy.load('en_core_web_sm')"
   ]
  },
  {
   "cell_type": "code",
   "execution_count": null,
   "metadata": {
    "ExecuteTime": {
     "end_time": "2024-01-12T13:51:09.158008Z",
     "start_time": "2024-01-12T13:50:56.912Z"
    },
    "tags": [
     "hermeneutics"
    ]
   },
   "outputs": [],
   "source": [
    "i = 1\n",
    "\n",
    "dfs = []\n",
    "for sheet in ['13 Sep 88', '10 Oct 88', '08 Nov 88', '13 Dec 88', '10 Jan 1989', '14 Feb 1989', '14 Mar 1989', '11 April 1989', '12 April 1989']:\n",
    "    d = pd.read_excel('./script/ECB_dataset.xlsx', sheet_name=sheet, skiprows=1)\n",
    "    d['date'] = sheet\n",
    "    d['meeting'] = i\n",
    "    d = d[1:]\n",
    "    dfs.append(d)\n",
    "    i+=1\n",
    "    \n",
    "df = pd.concat(dfs)"
   ]
  },
  {
   "cell_type": "code",
   "execution_count": null,
   "metadata": {
    "ExecuteTime": {
     "end_time": "2024-01-12T13:51:09.159785Z",
     "start_time": "2024-01-12T13:50:56.915Z"
    },
    "tags": [
     "hermeneutics"
    ]
   },
   "outputs": [],
   "source": [
    "df = df.dropna(how='all', axis=1)\n",
    "df = df[df['Speaker'].notna()]\n",
    "df = df.reset_index(drop=True)"
   ]
  },
  {
   "cell_type": "code",
   "execution_count": null,
   "metadata": {
    "ExecuteTime": {
     "end_time": "2024-01-12T13:51:09.161506Z",
     "start_time": "2024-01-12T13:50:56.918Z"
    },
    "tags": [
     "hermeneutics"
    ]
   },
   "outputs": [],
   "source": [
    "def return_delta(s1, s2):\n",
    "    try:\n",
    "        if '.' in s1:\n",
    "            FMT_s1 = '%M.%S'\n",
    "        else: \n",
    "            FMT_s1 = '%M:%S'\n",
    "\n",
    "        if '.' in s2:\n",
    "            FMT_s2 = '%M.%S'\n",
    "        else: \n",
    "            FMT_s2 = '%M:%S'\n",
    "\n",
    "        tdelta = datetime.strptime(s2, FMT_s2) - datetime.strptime(s1, FMT_s1)\n",
    "        return tdelta.total_seconds()\n",
    "    except Exception as e:\n",
    "        # print(s1, s2, e)\n",
    "        return np.nan\n",
    "\n",
    "deltas = []\n",
    "for s1, s2 in zip(df['Start of contribution'].tolist(), df['End of contribution '].tolist()):\n",
    "    deltas.append(return_delta(s1, s2))\n",
    "    \n",
    "df['delta'] = deltas\n",
    "df = df[df['delta'].notna()]"
   ]
  },
  {
   "cell_type": "code",
   "execution_count": null,
   "metadata": {
    "ExecuteTime": {
     "end_time": "2024-01-12T13:51:09.162982Z",
     "start_time": "2024-01-12T13:50:56.921Z"
    },
    "tags": [
     "hermeneutics"
    ]
   },
   "outputs": [],
   "source": [
    "df['duration'] = df['delta']\n",
    "df['meeting'] = df['meeting'].replace(9, 8)\n",
    "df = df[df['duration']>=0]\n",
    "df = df[df['Speaker']!='?']\n",
    "df['transcribed'] = df['In transcript'].str.replace(' $', '', regex=True)\n",
    "df['transcribed'] = df['transcribed'].str.replace('Not$', 'Not included', regex=True)\n",
    "df = df[df['transcribed'].isin(['Not included', 'Abridged', 'Complete'])]"
   ]
  },
  {
   "cell_type": "code",
   "execution_count": null,
   "metadata": {
    "ExecuteTime": {
     "end_time": "2024-01-12T13:51:09.164392Z",
     "start_time": "2024-01-12T13:50:56.925Z"
    },
    "tags": [
     "hermeneutics"
    ]
   },
   "outputs": [],
   "source": [
    "missing_transcriptions = pd.pivot_table(df, \n",
    "                          index='Speaker',\n",
    "                          columns='transcribed',\n",
    "                          values = 'duration',\n",
    "                          aggfunc='sum',\n",
    "                         ).round(0).fillna(0).reset_index().set_index('Speaker')\n",
    "\n",
    "missing_transcriptions.loc['Total'] = missing_transcriptions.sum(numeric_only=True, axis=0)\n",
    "\n",
    "for col in missing_transcriptions.columns:\n",
    "    missing_transcriptions[col] = missing_transcriptions[col].apply(lambda x: strftime(\"%H:%M:%S\", gmtime(x)))"
   ]
  },
  {
   "cell_type": "code",
   "execution_count": null,
   "metadata": {
    "ExecuteTime": {
     "end_time": "2024-01-12T13:51:09.165885Z",
     "start_time": "2024-01-12T13:50:56.928Z"
    },
    "jdh": {
     "object": {
      "source": [
       "Missing transcriptions"
      ]
     }
    },
    "tags": [
     "table-1"
    ]
   },
   "outputs": [],
   "source": [
    "missing_transcriptions"
   ]
  },
  {
   "cell_type": "markdown",
   "metadata": {
    "tags": [
     "narrative"
    ]
   },
   "source": [
    "Why have some parts of the tapes been transcribed in full, some others in abridged version and finally some not at all? To try and answer that question we need to turn to the other major primary sources on the work of the Committee, namely, the handwritten notes of the two rapporteurs, Baer and Padoa-Schioppa. Based on these notes, we can deduce that what has been transcribed corresponds to what they perceived as the most important parts of the discussion. "
   ]
  },
  {
   "cell_type": "markdown",
   "metadata": {
    "tags": [
     "narrative"
    ]
   },
   "source": [
    "The analysis of the sets of handwritten notes of the two rapporteurs for each of the meetings confirms that they both knew, and indeed asked, for parts of the discussions to be transcribed. Both Baer and Padoa-Schioppa left asterisks in the margins of their handwritten notes that systematically correspond to those parts that have been transcribed. For instance, in his notes during the sixth meeting, Padoa-Schioppa explicitly wrote in red “transcript until Duisenberg” to mark the part he knew was transcribed. It is of course not possible to know whether some other persons intervened and requested the rapporteurs to ask for the transcriptions of some interventions specifically. "
   ]
  },
  {
   "cell_type": "markdown",
   "metadata": {
    "tags": [
     "narrative"
    ]
   },
   "source": [
    "Figure 2 provides another example, namely, page 5 of the handwritten notes of Baer for the third meeting of the Committee. Three successive speakers can be identified: governor of the Danish central bank Erik Hoffmeyer, governor of the National Bank of Belgium Jean Godeaux and Leigh-Pemberton. The latter is the only one marked with a cross, and indeed in the transcription of this third meeting, the first intervention recorded is that of Godeaux (but an earlier one), followed immediately by that of Leigh-Pemberton. But the tape numbers do not match: Godeaux’ intervention ends at 247 while that of Leigh-Pemberton starts at 589. This suggests that some interventions in between have not been recorded. We can however see that the handwritten notes of Baer where he put a cross in the margin (“agrees with Godeaux”) correspond to the transcription (“I must say that I align myself”)."
   ]
  },
  {
   "cell_type": "code",
   "execution_count": null,
   "metadata": {
    "ExecuteTime": {
     "end_time": "2024-01-12T13:51:09.167633Z",
     "start_time": "2024-01-12T13:50:56.933Z"
    },
    "tags": [
     "figure-2"
    ]
   },
   "outputs": [],
   "source": [
    "metadata = {\n",
    "    \"jdh\":{\n",
    "        \"module\": \"object\",\n",
    "        \"object\": {\n",
    "            \"type\": \"image\",\n",
    "            \"source\": [\n",
    "                \"Excerpt from the handwritten notes of Gunter Baer of the third meeting of the Delors Committee, 8 November 1988 available at https://www.ecb.europa.eu/ecb/access_to_documents/archives/delors/documents/shared/data/ecb.dr.delors881108_HandwrittenMinutesThirdMeeting.en.pdf?a673cf3af794467b87b0a7ecaa293877\"\n",
    "            ]\n",
    "        }\n",
    "    }\n",
    "}\n",
    "\n",
    "display(Image(\"./media/fig2.jpg\"), metadata=metadata)"
   ]
  },
  {
   "cell_type": "code",
   "execution_count": null,
   "metadata": {
    "ExecuteTime": {
     "end_time": "2024-01-12T13:51:09.169186Z",
     "start_time": "2024-01-12T13:50:56.936Z"
    },
    "tags": [
     "figure-3"
    ]
   },
   "outputs": [],
   "source": [
    "metadata3 = {\n",
    "    \"jdh\":{\n",
    "        \"module\": \"object\",\n",
    "        \"object\": {\n",
    "            \"type\": \"image\",\n",
    "            \"source\": [\n",
    "                \"Excerpt of the transcript of the tapes of the third meeting of the Delors Committee, 8 November 1988 available at https://www.ecb.europa.eu/ecb/access_to_documents/archives/delors/documents/shared/data/ecb.dr.delors881110_TranscriptionThirdMeeting.en.pdf?bfd24e5eb630992f8a08521b3478b6ed\"\n",
    "            ]\n",
    "        }\n",
    "    }\n",
    "}\n",
    "display(Image(\"./media/fig3.png\"), metadata = metadata3)"
   ]
  },
  {
   "cell_type": "code",
   "execution_count": null,
   "metadata": {
    "ExecuteTime": {
     "end_time": "2024-01-12T13:51:09.170572Z",
     "start_time": "2024-01-12T13:50:56.939Z"
    },
    "tags": [
     "figure-4"
    ]
   },
   "outputs": [],
   "source": [
    "metadata4 = {\n",
    "    \"jdh\":{\n",
    "        \"module\": \"object\",\n",
    "        \"object\": {\n",
    "            \"type\": \"image\",\n",
    "            \"source\": [\n",
    "                \"Excerpt of the transcript of the tapes of the third meeting of the Delors Committee, 8 November 1988 available at https://www.ecb.europa.eu/ecb/access_to_documents/archives/delors/documents/shared/data/ecb.dr.delors881110_TranscriptionThirdMeeting.en.pdf?bfd24e5eb630992f8a08521b3478b6ed\"\n",
    "            ]\n",
    "        }\n",
    "    }\n",
    "}\n",
    "display(Image(\"./media/fig4.png\"), metadata = metadata4)"
   ]
  },
  {
   "cell_type": "code",
   "execution_count": null,
   "metadata": {
    "ExecuteTime": {
     "end_time": "2024-01-12T13:51:09.172491Z",
     "start_time": "2024-01-12T13:50:56.943Z"
    },
    "tags": [
     "hermeneutics"
    ]
   },
   "outputs": [],
   "source": [
    "# - Who spoke for how long overall\n",
    "speaker_overall = pd.pivot_table(df, \n",
    "                  index='Speaker',\n",
    "                  values = 'duration', \n",
    "                  aggfunc='sum',\n",
    "                 ).reset_index().sort_values(by='duration', ascending=False)\n",
    "\n",
    "speaker_overall['duration'] = speaker_overall['duration'].apply(lambda x: strftime(\"%H:%M:%S\", gmtime(x)))\n",
    "# - And count of # of interventions per speaker per meeting\n",
    "count_intervent = pd.pivot_table(df, \n",
    "                  index='Speaker',\n",
    "                  columns='meeting',\n",
    "                  values = 'duration', \n",
    "                  aggfunc='count',\n",
    "                 ).reset_index().reset_index(drop=True)\n",
    "# - Average length per meeting and per speaker (total length)\n",
    "avg_intervent = pd.pivot_table(df, \n",
    "                  index='Speaker',\n",
    "                  columns='meeting',\n",
    "                  values = 'duration', \n",
    "                  aggfunc='mean',\n",
    "                 ).round(0).fillna(0).astype(int)\n",
    "\n",
    "for col in avg_intervent.columns:\n",
    "    avg_intervent[col] = avg_intervent[col].apply(lambda x: strftime(\"%H:%M:%S\", gmtime(x)))\n",
    "    \n",
    "avg_intervent = avg_intervent.reset_index().reset_index(drop=True)"
   ]
  },
  {
   "cell_type": "markdown",
   "metadata": {
    "tags": [
     "narrative"
    ]
   },
   "source": [
    "Having the detailed speaking time of each Delors Committee member allows us to uncover some of the dynamics of the Committee. Table 2 provides the ranking of the Delors Committee members by speaking time."
   ]
  },
  {
   "cell_type": "code",
   "execution_count": null,
   "metadata": {
    "ExecuteTime": {
     "end_time": "2024-01-12T13:51:09.174699Z",
     "start_time": "2024-01-12T13:50:56.947Z"
    },
    "jdh": {
     "object": {
      "source": [
       "Speaker overall"
      ]
     }
    },
    "tags": [
     "table-2"
    ]
   },
   "outputs": [],
   "source": [
    "speaker_overall"
   ]
  },
  {
   "cell_type": "markdown",
   "metadata": {
    "tags": [
     "narrative"
    ]
   },
   "source": [
    "Even before delving into an analysis of the substance of the Delors Committee members’ interventions, this ranking provides interesting preliminary indications. It is no surprise that Delors 8 hours 49 minutes), Pöhl (6 hours 55 minutes) and governor of the Banque de France Jacques de Larosière (5 hours 26 minutes), respectively chair of the Committee and governors of the two major central banks of the EEC spoke the most. "
   ]
  },
  {
   "cell_type": "markdown",
   "metadata": {
    "tags": [
     "narrative"
    ]
   },
   "source": [
    "Conversely, we notice that the two rapporteurs almost never intervened: their role, as rapporteurs, took place behind the scenes. It is however very surprising to find governor of the Central Bank of Ireland Maurice Doyle in the fourth position (3 hours 20 minutes), half an hour ahead of the governor of the Bank of England (2 hours 49 minutes) for instance. As governor of a Central Bank of a small state, Ireland, Doyle spoke much more than any of the other smaller member states: Tavares Moreira (Portugal) spoke for only 33 minutes, and Godeaux (Belgium), Mariano Rubio (Spain), Demetrios Chalikias (Greece), Pierre Jaans (Luxembourg) and Hoffmeyer (Denmark) for around an hour (50 minutes to 1 hour 16). This shows not only that the debates within the Committee did not necessarily follow the seniority or financial/political importance of the member states, but also that some topics outside the core aspects of monetary union were presumably tackled. "
   ]
  },
  {
   "cell_type": "markdown",
   "metadata": {
    "tags": [
     "narrative"
    ]
   },
   "source": [
    "Indeed, as we will show in greater detail below through the close-reading analysis, Doyle frequently raised the questions of wage issues (second meeting in particular) and financial transfers of resources to compensate for the loss of the ability to devalue. Doyle also submitted a specific paper to the Committee focusing on regional policy. Surprising is also the modest speaking time of Carlo Azeglio Ciampi (Italy), who - in spite of being governor of a large member state - spoke only 1 hour 39 minutes. Finally, we can notice that the three experts participating in the Committee have taken a full part in the discussion as they have all substantial speaking time, in particular Lamfalussy (5th speaker, 3 hours 10 minutes) and Boyer (7th speaker, 2 hours 37 minutes)."
   ]
  },
  {
   "cell_type": "markdown",
   "metadata": {
    "tags": [
     "narrative"
    ]
   },
   "source": [
    "The calculation of the number of interventions and the average length of interventions confirms some patterns (see Table 3). With only one brief exception for Padoa-Schioppa in the third meeting, we can see that the rapporteurs’ interventions are strictly confined to the last meeting, which focused on the finalisation of the drafting of the Report. The average speaking time in this last meeting also highlights that all members intervened in the discussion, without significant discrepancies such as those observed in the overall speaking time. For instance, in this last meeting, Jaans, Hoffmeyer, Godeaux and Rubio all spoke on average longer than Delors, Pöhl and de Larosière. Overall, the relative shortness of average interventions indicates the flow of the debates as a genuine discussion, alternating longer presentations and multiple interjections."
   ]
  },
  {
   "cell_type": "code",
   "execution_count": null,
   "metadata": {
    "ExecuteTime": {
     "end_time": "2024-01-12T13:51:09.176698Z",
     "start_time": "2024-01-12T13:50:56.952Z"
    },
    "jdh": {
     "object": {
      "source": [
       "Average length of intervention"
      ]
     }
    },
    "tags": [
     "table-3"
    ]
   },
   "outputs": [],
   "source": [
    "avg_intervent.set_index('Speaker')"
   ]
  },
  {
   "cell_type": "markdown",
   "metadata": {
    "tags": [
     "narrative"
    ]
   },
   "source": [
    "While still partial, we now have a better overall view of who spoke when and for how long. From this information, we are confident that the data source we have constructed, despite not being the full transcript, reflects the core of the discussion. Having a word-by-word transcript of substantial size of what are the most important part of the tapes allows to use natural language processing tools to better identify the topics raised, while still being able to qualitatively interpret each individual intervention.\n",
    "In the next Section, we employ Named Entity Recognition (NER) in order to quantify cross-references between speakers, as well as references to institutions. In turn, we build networks of speaker-speaker interaction and speaker-institution interaction. In the next section we detail the analysis by exploiting the digitized and clean text of the interventions with a machine learning approach, and infer latent topics present in the corpus.\n"
   ]
  },
  {
   "cell_type": "markdown",
   "metadata": {
    "tags": [
     "narrative"
    ]
   },
   "source": [
    "## The multiple guises of ‘economic union’: Analysis of the Delors Committee transcripts"
   ]
  },
  {
   "cell_type": "markdown",
   "metadata": {
    "tags": [
     "narrative"
    ]
   },
   "source": [
    "### Who spoke about what in the Committee?"
   ]
  },
  {
   "cell_type": "code",
   "execution_count": null,
   "metadata": {
    "ExecuteTime": {
     "end_time": "2024-01-12T13:51:09.179232Z",
     "start_time": "2024-01-12T13:50:56.957Z"
    },
    "tags": [
     "hermeneutics"
    ]
   },
   "outputs": [],
   "source": [
    "d = pd.read_csv('./script/delors.csv')"
   ]
  },
  {
   "cell_type": "code",
   "execution_count": null,
   "metadata": {
    "ExecuteTime": {
     "end_time": "2024-01-12T13:51:09.182537Z",
     "start_time": "2024-01-12T13:50:56.961Z"
    },
    "scrolled": true,
    "tags": [
     "hermeneutics"
    ]
   },
   "outputs": [],
   "source": [
    "## clean and filter dataset\n",
    "\n",
    "d['speaker_clean'] = d.speaker_clean.str.replace('Jaques', 'Jacques')\n",
    "\n",
    "d = d[d['flag']!='missing']\n",
    "d = d[d['text_english'].notna()]"
   ]
  },
  {
   "cell_type": "markdown",
   "metadata": {
    "tags": [
     "narrative"
    ]
   },
   "source": [
    "To understand who spoke about what in the Delors Committee meetings, we first worked on identifying speakers and entities from the dataset. We employed Named Entity Recognition (NER), in order to flag each word in the texts as a noun, an adjective, a verb, etc. Using this technique, we were able to extract (and manually normalize) the names mentioned in each intervention, and construct a network of mentions between speakers. We leveraged the SpaCy Python library in order to extract the relevant entities. We refer to the SpaCy documentation for further details on the specific types of entities that are possible to extract. In our case, we exploited the model in order to extract persons (proper names), and names of “companies, agencies, institutions, etcetera” (available at: https://spacy.io/usage/linguistic-features#named-entities )"
   ]
  },
  {
   "cell_type": "code",
   "execution_count": null,
   "metadata": {
    "ExecuteTime": {
     "end_time": "2024-01-12T13:51:09.185759Z",
     "start_time": "2024-01-12T13:50:56.964Z"
    },
    "tags": [
     "hermeneutics"
    ]
   },
   "outputs": [],
   "source": [
    "list_entities = [\"PERSON\",\n",
    "                \"NORP\",\n",
    "                \"FAC\",\n",
    "                \"ORG\",\n",
    "                \"GPE\",\n",
    "                \"LOC\",\n",
    "                \"PRODUCT\",\n",
    "                \"EVENT\",\n",
    "                \"WORK_OF_ART\",\n",
    "                \"LAW\",\n",
    "                \"LANGUAGE\",\n",
    "                \"DATE\",\n",
    "                \"TIME\",\n",
    "                \"PERCENT\",\n",
    "                \"MONEY\",\n",
    "                \"QUANTITY\",\n",
    "                \"ORDINAL\",\n",
    "                \"CARDINAL\"\n",
    "                ]"
   ]
  },
  {
   "cell_type": "code",
   "execution_count": null,
   "metadata": {
    "ExecuteTime": {
     "end_time": "2024-01-12T13:51:09.189583Z",
     "start_time": "2024-01-12T13:50:56.967Z"
    },
    "tags": [
     "hermeneutics"
    ]
   },
   "outputs": [],
   "source": [
    "### pointer to reproduce analysis or to re-read from saved csv file the NER data\n",
    "\n",
    "run = False\n",
    "\n",
    "if run == True:\n",
    "    for label in list_entities:\n",
    "        print(label)\n",
    "        entities = []\n",
    "        for t in d.text_english.tolist():\n",
    "            try:\n",
    "                doc = nlp(t)\n",
    "                a = [ent.text for ent in doc.ents if ent.label_ == label]\n",
    "                entities.append(a)\n",
    "            except Exception as e:\n",
    "                print(e)\n",
    "                entities.append([])\n",
    "        d[label] = entities\n",
    "        \n",
    "    d.to_csv('./script/delors_NER.csv')\n",
    "else:\n",
    "    d = pd.read_csv('./script/delors_NER.csv', converters={\"ORG\": literal_eval})"
   ]
  },
  {
   "cell_type": "markdown",
   "metadata": {
    "tags": [
     "hermeneutics"
    ]
   },
   "source": [
    "##### Named Entity Recognition\n"
   ]
  },
  {
   "cell_type": "code",
   "execution_count": null,
   "metadata": {
    "ExecuteTime": {
     "end_time": "2024-01-12T13:51:09.191672Z",
     "start_time": "2024-01-12T13:50:56.971Z"
    },
    "tags": [
     "hermeneutics"
    ]
   },
   "outputs": [],
   "source": [
    "file_name = './script/networks/ner_entities_tot.xlsx'\n",
    "writer = pd.ExcelWriter(file_name, engine='xlsxwriter')   \n",
    "\n",
    "for ind in list_entities:\n",
    "    try:\n",
    "        d1 = d[['meeting','speaker_clean', ind]]\n",
    "        d1 = d1.explode(ind)\n",
    "        p = pd.pivot_table(d1, index = ind, values = 'speaker_clean', aggfunc = 'count').reset_index()\n",
    "        p = p.sort_values('speaker_clean', ascending=False)\n",
    "        p.to_excel(writer, sheet_name=ind, startrow=0 , startcol=0, index=False)\n",
    "    except Exception as e:\n",
    "        print(e)\n",
    "        \n",
    "writer.save()"
   ]
  },
  {
   "cell_type": "markdown",
   "metadata": {
    "tags": [
     "hermeneutics"
    ]
   },
   "source": [
    "##### Per meeting"
   ]
  },
  {
   "cell_type": "code",
   "execution_count": null,
   "metadata": {
    "ExecuteTime": {
     "end_time": "2024-01-12T13:51:09.193255Z",
     "start_time": "2024-01-12T13:50:56.975Z"
    },
    "scrolled": true,
    "tags": [
     "hermeneutics"
    ]
   },
   "outputs": [],
   "source": [
    "file_name = './script/networks/ner_entities.xlsx'\n",
    "writer = pd.ExcelWriter(file_name, engine='xlsxwriter')   \n",
    "\n",
    "for ind in list_entities:\n",
    "    try:\n",
    "        d1 = d[['meeting','speaker_clean', ind]]\n",
    "        d1 = d1.explode(ind)\n",
    "\n",
    "        aa = pd.DataFrame()\n",
    "        p = pd.pivot_table(d1, index = ind, values = 'speaker_clean', columns= 'meeting', aggfunc = 'count').reset_index()\n",
    "\n",
    "        for i in range(1,9):\n",
    "            p = p.sort_values(by=i, ascending=False)\n",
    "            aa[i] = p[ind].tolist()[:20]\n",
    "            aa[str(i)+'_count'] = p[i].tolist()[:20]\n",
    "        aa.to_excel(writer, sheet_name=ind, startrow=0 , startcol=0, index=False)\n",
    "    except Exception as e:\n",
    "        print(e)\n",
    "        \n",
    "writer.save()"
   ]
  },
  {
   "cell_type": "markdown",
   "metadata": {
    "tags": [
     "hermeneutics"
    ]
   },
   "source": [
    "### Network analysis"
   ]
  },
  {
   "cell_type": "code",
   "execution_count": null,
   "metadata": {
    "ExecuteTime": {
     "end_time": "2024-01-12T13:51:09.194834Z",
     "start_time": "2024-01-12T13:50:56.978Z"
    },
    "tags": [
     "hermeneutics"
    ]
   },
   "outputs": [],
   "source": [
    "n = d[['speaker_clean', 'ORG']]\n",
    "n = n.explode('ORG')\n",
    "\n",
    "G = nx.from_pandas_edgelist(n, 'speaker_clean', 'ORG')\n",
    "print(\"Graph has \"+str(len(G.nodes))+\" nodes and \"+str(len(G.edges))+\" edges\")"
   ]
  },
  {
   "cell_type": "code",
   "execution_count": null,
   "metadata": {
    "ExecuteTime": {
     "end_time": "2024-01-12T13:51:09.196983Z",
     "start_time": "2024-01-12T13:50:56.981Z"
    },
    "code_folding": [],
    "tags": [
     "hermeneutics"
    ]
   },
   "outputs": [],
   "source": [
    "def draw(G, pos, measures, measure_name, sizes, labels=False):\n",
    "    nodes = nx.draw_networkx_nodes(G, pos, cmap=plt.cm.plasma, \n",
    "                                   node_color=list(measures.values()),\n",
    "                                   nodelist=measures.keys(),\n",
    "                                   node_size=sizes,\n",
    "                                  )\n",
    "    \n",
    "    nodes.set_norm(mcolors.SymLogNorm(linthresh=0.01, linscale=1))\n",
    "    if labels == True: \n",
    "        labels_dict = {}\n",
    "        for node, size in zip(G.nodes, sizes):\n",
    "            deg = size / 100\n",
    "            if deg >= 5:\n",
    "                labels_dict[node] = node\n",
    "        nx.draw_networkx_labels(G,pos,labels_dict,font_size=16,font_color='black')\n",
    " \n",
    "    edges = nx.draw_networkx_edges(G, pos)\n",
    "    plt.title(measure_name)\n",
    "    plt.colorbar(nodes)\n",
    "    plt.axis('off')\n",
    "    plt.show()\n",
    "\n",
    "nx.write_gexf(G, \"./script/networks/graphs/ORG.gexf\")\n",
    "n.rename(columns={'speaker_clean':'Source', 'ORG':'Target'}).to_csv('./script/networks/graphs/ORG_data.csv', index=False)\n",
    "\n",
    "# the gexf data was styled in Gephi, producing the following Figure:"
   ]
  },
  {
   "cell_type": "code",
   "execution_count": null,
   "metadata": {
    "ExecuteTime": {
     "end_time": "2024-01-12T13:51:09.203519Z",
     "start_time": "2024-01-12T13:50:56.985Z"
    },
    "tags": [
     "figure-5"
    ]
   },
   "outputs": [],
   "source": [
    "metadata5 = {\n",
    "    \"jdh\":{\n",
    "        \"module\": \"object\",\n",
    "        \"object\": {\n",
    "            \"type\": \"image\",\n",
    "            \"source\": [\n",
    "                \"figure 5: Bipartite network of the entities and speakers\"\n",
    "            ]\n",
    "        }\n",
    "    }\n",
    "}\n",
    "\n",
    "display(Image(\"./media/fig5.png\"), metadata=metadata5)"
   ]
  },
  {
   "cell_type": "markdown",
   "metadata": {
    "tags": [
     "narrative"
    ]
   },
   "source": [
    "The figure shows the bipartite network representing speakers (grey nodes) and entities (white nodes) mentioned in the meetings. The graph was made using Gephi and the Force Atlas algorithm. The speakers are the members of the Delors Committee; the entities are any organisation and notion that they mentioned (an institution, a report or a policy for instance). Each entity mentioned in the transcription of the records is linked to a different intervention of our dataset, and can therefore be attributed to each speaker. In the network, the edges represent a directional relationship between the nodes. If Jacques Delors mentions the Bank for International Settlements in an intervention, the edge will represent an arrow going from the node ‘Jacques Delors,’ and aiming at the node ‘Bank for International Settlements.’ If Delors has mentioned the BIS more times than the Council of Ministers, the edge towards the BIS will have a heavier weight. The weights of the edges are simple sums of the mentions. To make it readable, the figure excludes entities and speakers that appeared only once.\n",
    "Looking at the entities to which the Delors Committee members referred, there is little trace of economic union. We can only see a marginal mention of the Centre for Economic Policy Coordination (an institution at a time envisaged as the economic authority counterbalancing the future European monetary authority) as well as references to the 1974 Convergence Directive and the European Fiscal Framework. The entities recognised are predominantly institutions, either from the European Economic Community (European Council, European Parliament, Council of Ministers…) or from member states (national central banks). As the next sections will show, the absence of economic union-related entities does not mean however that economic union-related topics were not discussed. This absence rather shows that their discussion did not revolve around well-identified concepts. Instead, discussion of economic union implied broader conversations about how economic and monetary policies interact, that cannot be reflected and identified through the mention of a few standard entities. \n"
   ]
  },
  {
   "cell_type": "markdown",
   "metadata": {
    "tags": [
     "narrative"
    ]
   },
   "source": [
    "The institutions associated with Pöhl confirm that his main concerns centred around the ECU and the EMS. The role of the ECU, its possible use as a parallel currency, were indeed key preoccupations of the Bundesbank. Reference to the EMS denotes the reference to the current system by contrast to what could be done, and highlights a specific reflection on the advantages and disadvantages of moving to something new, that was accompanied by a paper he submitted to the Committee (Karl-Otto Pöhl, The further development of the EMS, 14 September 1988, see ECB Archives, CSEMU, List of papers by subject, 3 January 1989)."
   ]
  },
  {
   "cell_type": "markdown",
   "metadata": {
    "tags": [
     "narrative"
    ]
   },
   "source": [
    "We can also see that Pöhl is the central banker who most often referred to his own central bank, the Bundesbank. This underscores the peculiar status (full independence) of the Bundesbank: Pöhl had to regularly set out clearly his own domestic institutional constraints to the other members of the Committee. For instance, during the third meeting Pöhl elaborates on the different institutional options for the central bank and refers to the independence of the Bundesbank, and in the sixth meeting Pöhl explains the board of the Bundesbank's appointment procedure to the members of the Committee (see respectively record of third meeting - from timestamp 1356 - and sixth meeting - from timestamp 1547). The main topics associated with Delors highlight his role as Committee chair and president of the Commission. The EEC is the entity he most often referred to, followed by the ECU (one of the options on the table of discussions), the Committee itself (what it is doing, how it functions), and the European Council (the institution giving the mandate to the Committee). "
   ]
  },
  {
   "cell_type": "markdown",
   "metadata": {
    "tags": [
     "narrative"
    ]
   },
   "source": [
    "Apart from these two cases, the entities most referred to are well distributed. Of course, references to both the Delors Committee and the Delors Report stand out, since they were the purpose of the meetings. The European Reserve Fund was one of the main elements of discussion, and an idea put forward by de Larosière in a paper submitted to the Committee. The figure underlines however that the ERF was equally referred to by all members, not just by de Larosière, which highlights a genuine debate among the members."
   ]
  },
  {
   "cell_type": "markdown",
   "metadata": {
    "tags": [
     "narrative"
    ]
   },
   "source": [
    "### Which words were the most used?"
   ]
  },
  {
   "cell_type": "code",
   "execution_count": null,
   "metadata": {
    "ExecuteTime": {
     "end_time": "2024-01-12T13:51:09.207210Z",
     "start_time": "2024-01-12T13:50:56.990Z"
    },
    "tags": [
     "hermeneutics"
    ]
   },
   "outputs": [],
   "source": [
    "d = pd.read_csv('./script/delors_NER.csv')"
   ]
  },
  {
   "cell_type": "code",
   "execution_count": null,
   "metadata": {
    "ExecuteTime": {
     "end_time": "2024-01-12T13:51:09.209704Z",
     "start_time": "2024-01-12T13:50:56.994Z"
    },
    "tags": [
     "hermeneutics"
    ]
   },
   "outputs": [],
   "source": [
    "## Remove stopwords in english\n",
    "stopwords = list(nltk.corpus.stopwords.words('english'))\n",
    "ad_hoc_sw = ['from', 're', 'edu', 'use', 'not', 'would', 'say', 'could', '_', 'be', 'know', 'good', 'go', 'get', 'do', 'done', 'try', 'many', 'some', 'nice', 'thank', 'dont', 'see', 'rather', 'easy', 'easily', 'lot', 'lack', 'make', 'want', 'seem', 'run', 'need', 'even', 'line', 'also', 'may', 'take', 'come', 'one', 'amp', 'well']\n",
    "extensions = ['mr', 'the', 'u', 'mr', 'I', 'would', 'think', 'say', 'also', 'may', 'go', 'make', 'can', 'not']\n",
    "stopwords.extend(ad_hoc_sw)\n",
    "stopwords.extend(extensions)\n",
    "\n",
    "# Stemming\n",
    "ps = nltk.stem.SnowballStemmer('english')\n",
    "# Lemmatization\n",
    "wn = nltk.WordNetLemmatizer()\n",
    "# Polishing the text\n",
    "\n",
    "'''\n",
    "Here are a set of functions to clean and preprocess english text. \n",
    "The first one should take care of most of the issues, but subsequently I apply more further on\n",
    "To deactivate some functions comment out last block\n",
    "'''\n",
    "\n",
    "def remove_punct(text):\n",
    "    text  = \"\".join([char for char in text if char not in punctuation])\n",
    "    text = re.sub('[0-9]+', '', text)\n",
    "    text = re.sub('â', \"'\", text)\n",
    "    return text.lower()\n",
    "\n",
    "def tokenization(text):\n",
    "    text = re.split('\\W+', text)\n",
    "    return text\n",
    "\n",
    "def remove_stopwords(text):\n",
    "    text = [word for word in text if word not in stopwords and len(word) > 1]\n",
    "    return text\n",
    "\n",
    "def stemming(text):\n",
    "    text = [ps.stem(word) for word in text]\n",
    "    return text\n",
    "\n",
    "def lemmatizer(text):#, allowed_tags=['NOUN', 'ADJ', 'VERB', 'ADV']):\n",
    "    doc = nlp(\" \".join(text)) \n",
    "    lemma_list = [str(tok.lemma_).lower() for tok in doc if tok.is_alpha and tok.text.lower() not in stopwords]\n",
    "    return text\n",
    "\n",
    "def non_vec(text):\n",
    "    text = ' '.join(word for word in text)\n",
    "    return text\n",
    "\n",
    "d['text_clean'] = d['text_english'].progress_apply(remove_punct)\n",
    "d['text_clean'] = d['text_clean'].progress_apply(tokenization)\n",
    "d['text_clean'] = d['text_clean'].progress_apply(remove_stopwords)\n",
    "d['text_clean'] = d['text_clean'].progress_apply(lemmatizer)\n",
    "d['text_clean'] = d['text_clean'].progress_apply(non_vec)"
   ]
  },
  {
   "cell_type": "code",
   "execution_count": null,
   "metadata": {
    "ExecuteTime": {
     "end_time": "2024-01-12T13:51:09.211581Z",
     "start_time": "2024-01-12T13:50:56.997Z"
    },
    "tags": [
     "hermeneutics"
    ]
   },
   "outputs": [],
   "source": [
    "### Only more than 3 words\n",
    "d['len'] = d['text_clean'].str.split().apply(len)\n",
    "d = d[d['len']>3]\n",
    "speakers = list(d.speaker_clean.unique())\n",
    "speakers.remove('?')"
   ]
  },
  {
   "cell_type": "code",
   "execution_count": null,
   "metadata": {
    "ExecuteTime": {
     "end_time": "2024-01-12T13:51:09.213490Z",
     "start_time": "2024-01-12T13:50:57.000Z"
    },
    "tags": [
     "hermeneutics"
    ]
   },
   "outputs": [],
   "source": [
    "by_meeting_words = pd.DataFrame()\n",
    "by_meeting_bigrams = pd.DataFrame()\n",
    "\n",
    "for i in range(1,8+1):\n",
    "    try:\n",
    "        d1 = d[d['meeting']==i]\n",
    "\n",
    "        tokens = nltk.tokenize.word_tokenize(' '.join(d1.text_clean.tolist()))\n",
    "        \n",
    "        #Create your bigrams\n",
    "        bgs = nltk.bigrams(tokens)\n",
    "        bigram_fdist = nltk.FreqDist(bgs)\n",
    "        words_fdist = FreqDist(tokens)\n",
    "        \n",
    "        top_words = [w + '  ' +str(c) for w, c in words_fdist.most_common(10)]\n",
    "        top_bgs = [w[0] + '_' + w[1] + '  ' + str(c) for w, c in bigram_fdist.most_common(10)]\n",
    "        \n",
    "        by_meeting_words[i] = top_words\n",
    "        by_meeting_bigrams[i] = top_bgs\n",
    "        \n",
    "    except Exception as e:\n",
    "        print(e)\n",
    "        print(i)"
   ]
  },
  {
   "cell_type": "code",
   "execution_count": null,
   "metadata": {
    "ExecuteTime": {
     "end_time": "2024-01-12T13:51:09.219129Z",
     "start_time": "2024-01-12T13:50:57.004Z"
    },
    "jdh": {
     "object": {
      "source": [
       "By meeting bigrams"
      ]
     }
    },
    "tags": [
     "table-4"
    ]
   },
   "outputs": [],
   "source": [
    "by_meeting_bigrams"
   ]
  },
  {
   "cell_type": "markdown",
   "metadata": {
    "tags": [
     "narrative"
    ]
   },
   "source": [
    "Another door of entry to explore the dataset and identify who spoke about what and when is to analyse the words most used. In this section, we focus on very simple metrics, counting the appearance of expressions in the text of the interventions, while in the next section we will rely on more refined Natural Language Processing techniques.\n",
    "We privileged analysis of bigrams (that is, pairs of consecutive words) over analysis of words alone, as the subject studied has an inherent bias towards words taken separately. For instance, ‘economic and monetary union’ would result in counting three words for one concept alone, and thus not inform much about the distribution of topics and themes in the discussions. The three most used single words of Delors throughout the transcripts are indeed ‘economic’ (103 occurrences), ‘monetary’ (86) and ‘union’ (84)."
   ]
  },
  {
   "cell_type": "markdown",
   "metadata": {
    "tags": [
     "narrative"
    ]
   },
   "source": [
    "Turning to the bigrams, the top bigram for each meeting is always ‘monetary union’ or ‘central bank,’ with the exception of meeting 7, when the top bigram is ‘political signal’. This reflects the fact that discussions in the seventh meeting focused on the impact different draftings of the Report could have on the European Council. Overall, ‘monetary union’ is unsurprisingly the most frequently used bigram (181 occurrences, bearing in mind that this figure is biased by the fact that the oft-used phrase ‘economic and monetary union’ will only be recorded in terms of bigram as ‘monetary union’), followed by ‘monetary policy’ (111), ‘central bank’ (102), ‘economic monetary’ (98, most likely a reference to EMU), ‘exchange rates’ (68), and finally ‘economic union’ (48). Decomposing the bigrams per speaker, we observe that ‘economic union’ is referred to by the two experts, Boyer and Thygesen, and by Delors. This time, some economic union-related topics reflected in other bigrams emerge. Doyle refers to the wages implications and Tavares Moreira to the regional implications of EMU. Bigrams thus offer a first glimpse into the presence, in the background, of a discussion on “economic union.”"
   ]
  },
  {
   "cell_type": "markdown",
   "metadata": {
    "tags": [
     "narrative"
    ]
   },
   "source": [
    "While offering interesting insights about the substance of the discussions, the bigrams analysis and the deductions we can draw from the speaking times are limited. Many items that could be included in the broad theme of economic union, such as fiscal policy, regional policy and coordination of economic policies, cannot be solely reflected under the bigram of ”economic union”. Conversely, the bigram of ”economic union” cannot be unpacked to understand what exactly were the speakers referring to. In order to compensate for that limitation, we employ a machine learning approach and apply topic modelling in order to infer topics from the corpus."
   ]
  },
  {
   "cell_type": "code",
   "execution_count": null,
   "metadata": {
    "ExecuteTime": {
     "end_time": "2024-01-12T13:51:09.222049Z",
     "start_time": "2024-01-12T13:50:57.009Z"
    },
    "tags": [
     "hermeneutics"
    ]
   },
   "outputs": [],
   "source": [
    "by_speaker_words = pd.DataFrame()\n",
    "by_speaker_bigrams = pd.DataFrame()\n",
    "\n",
    "for i in speakers:\n",
    "    try:\n",
    "        d1 = d[d['speaker_clean']==i]\n",
    "\n",
    "        tokens = nltk.tokenize.word_tokenize(' '.join(d1.text_clean.tolist()))\n",
    "        #Create your bigrams\n",
    "        bgs = nltk.bigrams(tokens)\n",
    "        bigram_fdist = nltk.FreqDist(bgs)\n",
    "        words_fdist = FreqDist(tokens)\n",
    "\n",
    "        top_words = [w + '  ' +str(c) for w, c in words_fdist.most_common(10)]\n",
    "        top_bgs = [w[0] + '_' + w[1] + '  ' + str(c) for w, c in bigram_fdist.most_common(10)]\n",
    "        by_speaker_words[i] = top_words\n",
    "        by_speaker_bigrams[i] = top_bgs\n",
    "        \n",
    "    except Exception as e:\n",
    "        print(e)\n",
    "        print(i)\n",
    "        "
   ]
  },
  {
   "cell_type": "code",
   "execution_count": null,
   "metadata": {
    "ExecuteTime": {
     "end_time": "2024-01-12T13:51:09.224107Z",
     "start_time": "2024-01-12T13:50:57.012Z"
    },
    "jdh": {
     "object": {
      "source": [
       "By speaker bigrams"
      ]
     }
    },
    "tags": [
     "table-5"
    ]
   },
   "outputs": [],
   "source": [
    "by_speaker_bigrams"
   ]
  },
  {
   "cell_type": "markdown",
   "metadata": {
    "tags": [
     "narrative"
    ]
   },
   "source": [
    "### What topics were raised?"
   ]
  },
  {
   "cell_type": "markdown",
   "metadata": {
    "tags": [
     "narrative"
    ]
   },
   "source": [
    "We move beyond simple word-counts by inferring latent topics in the texts, employing a topic modelling approach. Starting from the dataset of full-text interventions, we then refined the text with the standard techniques of pre-processing. We removed stop words (very common words like “the”) and punctuation. We have extended the list of common stopwords from the Natural Language Toolkit (NLTK) in Python, with a list of words that were quite uninformative, but very common in a conversational context such as in this exercise (e.g. “mr”, “think”, “say”, “also”, “may”, “go”, “make”, “can”, “not”).\n",
    "We also lemmatised each word, that is, we brought conjugations and declinations to their lemma (e.g. the word “going” is mapped as to “go”). In order to keep nuance, we left plurals to their original form, instead of reducing them to their singular form. We have relied on the spaCy software for the lemmatisation process, implemented in Python3.10, allowing all possible tags within this framework (for further details, please see the documentation available at https://spacy.io/). We have relied on the We also add to the model bigrams, hence expressions which are often in pairs. For instance, the words “monetary” and “policy” would be tied together in “monetary_policy”. We have employed the bigram formation with the Python library Natural Language Toolkit (NLTK, https://www.nltk.org/). Furthermore, given that interventions have very different structures and lengths (e.g. a quick reply or a long statement) we split the text into sentences rather than having the full text of the intervention. "
   ]
  },
  {
   "cell_type": "markdown",
   "metadata": {
    "tags": [
     "narrative"
    ]
   },
   "source": [
    "The rationale for doing this is also inherent into the aim of our exercise: each intervention can blend a wide variety of topics, and hence cannot be solely allocated to one topic. For instance, one speaker can start by tackling the issue of the role of the ECU, and then move on to talk about the economic implications of fixed exchange rates, and conclude on the importance of having a political impulse for monetary union to materialise. Splitting each of the 230 long interventions by sentences can help us cluster better the content of the speeches into topics. Therefore, we construct a dataset representing a corpus of 3043 sentences with an after cleaning dictionary of 4395 unique words and bigrams. "
   ]
  },
  {
   "cell_type": "markdown",
   "metadata": {
    "tags": [
     "narrative"
    ]
   },
   "source": [
    "We choose to implement a Latent Dirichlet Allocation unsupervised model, in order to infer latent topics from the documents, and assign them to specific topics. Relying only on keyword matching, as mentioned, is limited as it misses the latent component that these models instead bring. Our aim is to cluster sentences and interventions into topics and sub-topics independently of our pre-conceived notion of the topics discussed during the meetings. While unsupervised machine-learning allows us to do so, it also comes with limitations. The use of language during those meetings is that of high-level policymakers into formal meetings, and clustering correctly the content of interventions might not be a trivial in and unsupervised-learning framework. "
   ]
  },
  {
   "cell_type": "markdown",
   "metadata": {
    "tags": [
     "narrative"
    ]
   },
   "source": [
    "Hence, we aim at leaving flexibility to the model, while at the same time nudging it to recognize specific topics without resorting to a rigid set of keywords matches. For these reasons, we resort to the guided-LDA model, an extension of the base LDA algorithm that allows us to insert lexical priors into the model. These lexical priors are a set of pre-determined keywords describing topics that, a-priori, we believed were present in the corpus. We defined the prior topics based on the close-reading of the documents and are presented in Table 6.  The topics seeded into the models as priors, nudge it to recognise them and help us to cluster more efficiently the documents into specific topics. At the same time, contrary to keywords, we still exploit a stochastic component: the model might converge into recognizing topics that are not in our list of priors, or into not recognizing seeded topics. "
   ]
  },
  {
   "cell_type": "markdown",
   "metadata": {
    "jdh": {
     "object": {
      "source": [
       "Composition of the dataset per meeting"
      ]
     }
    },
    "tags": [
     "table-6"
    ]
   },
   "source": [
    "\n",
    "|Topic|Seeded words|\n",
    "|:----|:----|\n",
    "|0 organisational aspects|baer, minutes, record, week, unanimity, compromise, statement|\n",
    "|1 parallelism of progress between economic union and monetary union|pace, force, monetary_union, economic_union, werner, step, precondition, speed, parallel, parallelism|\n",
    "|2 definition of monetary union|irreversible, irrevocable, fixed, balance, flexible, single_currency, common_currency, sovereignty, sovereignty, margin, narrow, narrowing, locked|\n",
    "|3 economic union|internal, market, regional, fiscal_policy, common_policy, accompanying_policies|\n",
    "|4 outline of report and drafting discussions|step, treaty, change, stage, first, second, transition, scenario, phase, final, signal, impulse, negotiate, credibility, compromise, paragraph, process, statement,sentence|\n",
    "|5 regional policy|region, regional_policy, policy_regional, regional, exchange_rate, transfer, common_policy, transfers, peripheral, central, difference, infrastructure, regional_transfers, imbalance, imbalances, adjustment, structural, regional_development,|\n",
    "|6 fiscal policy|transfer, budget, budgetary policy, common_policy, adjustment, financial, increase, community_budget|\n",
    "|7 ECU and its role|parallel_currency, private, private_ecu, ecu, currency, basket, attractive, business|\n",
    "|8 design of ECB|independence, board, decision, rate, interest rate, authority, central, credibility, european_central_bank, central, law, escb, administer, third_currencies, council_governors, quantitative, control, technique, aggregates, reserves, compulsory|\n",
    "|9 European Reserve Fund|larosière, monetary_fund, erf, reserve_fund|\n",
    "|10 economic policy coordination|convergence, exchange_rate, capital, adjustment, directive, coordination, welfare, centre, precondition, binding, inflation|\n",
    "|11 cost of production and competitiveness|wages, exchange_rate, income, unemployment, employment, productivity, adjustment, competitive, work, wage, migration|\n",
    "|12 tax hamonisation|taxes, exchange_rate, harmonise|\n",
    "|13 institutional structure|council, ecofin, parliament, european_parliament, statement, veto, institution, sovereignty, brussels, central, centralisation, law, speed, decision, fecom, credibility, authority, european_council, heads_state, heads_government, subsidiarity, rome, treaty_rome, legitimisation|\n",
    "|14 budget deficit|market, market_mechanism, constraint, borrow, limit, gdp, savings, binding, size, discipline|"
   ]
  },
  {
   "cell_type": "markdown",
   "metadata": {
    "jdh": {
     "object": {
      "source": [
       "Composition of the dataset per meeting"
      ]
     }
    },
    "tags": [
     "table-7"
    ]
   },
   "source": [
    "\n",
    "\n",
    "|Meeting number|Date of meeting|Number of words of the transcript|Number of pages|\n",
    "|:----|:----|:----|:----|\n",
    "|1st meeting|13 September 1988|8091|20|\n",
    "|2nd meeting|10 October 1988|17096|41|\n",
    "|3rd meeting|8 November 1988|9336|21|\n",
    "|4th meeting|13 December 1988|7849|20|\n",
    "|5th meeting|10 January 1989|21165|49|\n",
    "|6th meeting|14 February 1989|7742|20|\n",
    "|7th meeting|14 March 1989|7563|18|\n",
    "|8th meeting|12 April 1989|10469|24|\n",
    "|Total| |89311|213|"
   ]
  },
  {
   "cell_type": "markdown",
   "metadata": {
    "tags": [
     "narrative"
    ]
   },
   "source": [
    "We apply the guided LDA to the pre-processed and clean version of the text. The outcome of these models are a set of keywords for each topic, that in turn have to be interpreted. Our model stabilizes evaluation metrics (coherence) around 70 topics. Each sentence could belong to each of these topics according to a probability distribution. As common practice, we assign the sentence to the topic for which it has the highest probability. "
   ]
  },
  {
   "cell_type": "code",
   "execution_count": null,
   "metadata": {
    "ExecuteTime": {
     "end_time": "2024-01-12T13:51:09.225983Z",
     "start_time": "2024-01-12T13:50:57.020Z"
    },
    "tags": [
     "hermeneutics"
    ]
   },
   "outputs": [],
   "source": [
    "nlp = spacy.load('en_core_web_sm')\n",
    "\n",
    "# Up and clean\n",
    "d = pd.read_csv('./script/delors_NER.csv')\n",
    "d['speaker_clean'] = d.speaker_clean.str.replace('Jaques', 'Jacques')\n",
    "d = d[d['flag']!='missing']\n",
    "d = d[d['text_english'].notna()]"
   ]
  },
  {
   "cell_type": "code",
   "execution_count": null,
   "metadata": {
    "ExecuteTime": {
     "end_time": "2024-01-12T13:51:09.227844Z",
     "start_time": "2024-01-12T13:50:57.023Z"
    },
    "tags": [
     "hermeneutics"
    ]
   },
   "outputs": [],
   "source": [
    "nlp = English()  # just the language with no model\n",
    "nlp.add_pipe('sentencizer')\n",
    "\n",
    "split_in_ = 'sents' #or 'paragraphs', 'nothing', 'sents'\n",
    "\n",
    "## SpaCy with sentencizer\n",
    "if split_in_ == 'sents':\n",
    "    d[\"text_split\"] = d[\"text_english\"].apply(lambda x: [sent.text for sent in nlp(x).sents])\n",
    "    d = d.explode('text_split')\n",
    "    \n",
    "elif split_in_ == 'paragraphs':\n",
    "    def split_paragraphs(text):\n",
    "        sents = re.split('\\n\\n|\\.\\.\\.', text)\n",
    "        #sents = re.split('\\.', text)\n",
    "        return sents\n",
    "    d['text_split'] = d['text_english'].apply(lambda x: [sent for sent in split_paragraphs(x)])\n",
    "    d = d.explode(\"text_split\")\n",
    "elif split_in_ == 'nothing':\n",
    "    d['text_split'] = d['text_english']\n",
    "d['text_toclean'] = d['text_split']"
   ]
  },
  {
   "cell_type": "code",
   "execution_count": null,
   "metadata": {
    "ExecuteTime": {
     "end_time": "2024-01-12T13:51:09.229289Z",
     "start_time": "2024-01-12T13:50:57.026Z"
    },
    "tags": [
     "hermeneutics"
    ]
   },
   "outputs": [],
   "source": [
    "nlp = spacy.load('en_core_web_sm')\n",
    "## Remove stopwords in english\n",
    "stopwords = nltk.corpus.stopwords.words('english')\n",
    "ad_hoc_sw = ['from', 're', 'edu', 'use', 'not', 'would', 'say', 'could', '_', 'be', 'know', 'good', 'go', 'get', 'do', 'done', 'try', 'many', 'some', 'nice', 'thank', 'dont', 'see', 'rather', 'easy', 'easily', 'lot', 'lack', 'make', 'want', 'seem', 'run', 'need', 'even', 'line', 'also', 'may', 'take', 'come', 'one', 'amp', 'well']\n",
    "extensions = ['mr', 'u']\n",
    "stopwords.extend(extensions)\n",
    "stopwords.extend(ad_hoc_sw)\n",
    "\n",
    "# Stemming\n",
    "ps = nltk.stem.SnowballStemmer('english')\n",
    "# Lemmatization\n",
    "wn = nltk.WordNetLemmatizer()"
   ]
  },
  {
   "cell_type": "code",
   "execution_count": null,
   "metadata": {
    "ExecuteTime": {
     "end_time": "2024-01-12T13:51:09.230881Z",
     "start_time": "2024-01-12T13:50:57.029Z"
    },
    "tags": [
     "hermeneutics"
    ]
   },
   "outputs": [],
   "source": [
    "# Polishing the text\n",
    "\n",
    "'''\n",
    "Here are a set of functions to clean and preprocess english text. \n",
    "The first one should take care of most of the issues, but subsequently I apply more further on\n",
    "To deactivate some functions comment out last block\n",
    "'''\n",
    "\n",
    "def remove_punct(text):\n",
    "    text  = \"\".join([char for char in text if char not in punctuation])\n",
    "    text = re.sub('[0-9]+', '', text)\n",
    "    text = re.sub('â', \"'\", text) \n",
    "    return text\n",
    "\n",
    "def tokenization(text):\n",
    "    text = re.split('\\W+', text)\n",
    "    return text\n",
    "\n",
    "def remove_stopwords(text):\n",
    "    text = [word for word in text if word not in stopwords]\n",
    "    return text\n",
    "\n",
    "def stemming(text):\n",
    "    text = [ps.stem(word) for word in text]\n",
    "    return text\n",
    "\n",
    "def lemmatizer(text):#, allowed_tags=['NOUN', 'ADJ', 'VERB', 'ADV']):\n",
    "    doc = nlp(\" \".join(text)) \n",
    "    lemma_list = [str(tok.lemma_).lower() for tok in doc if tok.is_alpha and tok.text.lower() not in stopwords]\n",
    "    return text\n",
    "\n",
    "def non_vec(text):\n",
    "    text = ' '.join(word for word in text)\n",
    "    return text\n",
    "\n",
    "d['text_clean'] = d['text_toclean'].progress_apply(remove_punct)\n",
    "d['text_clean'] = d['text_clean'].progress_apply(tokenization)\n",
    "d['text_clean'] = d['text_clean'].progress_apply(remove_stopwords)\n",
    "d['text_clean'] = d['text_clean'].progress_apply(lemmatizer)\n",
    "d['text_clean'] = d['text_clean'].progress_apply(non_vec)"
   ]
  },
  {
   "cell_type": "code",
   "execution_count": null,
   "metadata": {
    "ExecuteTime": {
     "end_time": "2024-01-12T13:51:09.232349Z",
     "start_time": "2024-01-12T13:50:57.032Z"
    },
    "tags": [
     "hermeneutics"
    ]
   },
   "outputs": [],
   "source": [
    "## Remove stopwords in english\n",
    "stopwords = nltk.corpus.stopwords.words('english')\n",
    "\n",
    "corpus_texts = d.text_clean.tolist()\n",
    "corpus = tp.utils.Corpus(tokenizer=tp.utils.SimpleTokenizer(), stopwords=lambda x: len(x) <= 1 or x in stopwords)\n",
    "corpus.process([text for text in corpus_texts])\n",
    "\n",
    "# extract the n-gram candidates first\n",
    "cands = corpus.extract_ngrams(min_df=10, max_len=5, max_cand=200)\n",
    "print('==== extracted n-gram collocations ====')\n",
    "\n",
    "# concat n-grams in the corpus\n",
    "corpus.concat_ngrams(cands, delimiter='_')"
   ]
  },
  {
   "cell_type": "code",
   "execution_count": null,
   "metadata": {
    "ExecuteTime": {
     "end_time": "2024-01-12T13:51:09.234184Z",
     "start_time": "2024-01-12T13:50:57.035Z"
    },
    "tags": [
     "hermeneutics"
    ]
   },
   "outputs": [],
   "source": [
    "# Guided LDA with seed topics.\n",
    "priors_dict = {\n",
    "        0: [\"baer\", \"minutes\", \"record\", \"week\", \"unanimity\", \"compromise\", \"statement\"],\n",
    "        1: [\"pace\", \"force\", \"monetary_union\", \"economic_union\", \"werner\", \"step\", \"precondition\", \"speed\", \"parallel\", \"parallelism\"],\n",
    "        2: [\"irreversible\", \"irrevocable\", \"fixed\", \"balance\", \"flexible\", \"single_currency\", \"common_currency\", \"sovereignty\", \"sovereignty\", \"margin\", \"narrow\", \"narrowing\", \"locked\"],\n",
    "        3: [\"internal\", \"market\", \"regional\", \"fiscal_policy\", \"common_policy\", \"accompanying_policies\"],\n",
    "        4: [\"step\", \"treaty\", \"change\", \"stage\", \"first\", \"second\", \"transition\", \"scenario\", \"phase\", \"final\", \"signal\", \"impulse\", \"negotiate\", \"credibility\", \"compromise\", \"paragraph\", \"process\", \"statement\",\"sentence\"],\n",
    "        5: [\"region\", \"regional_policy\", \"policy_regional\", \"regional\", \"exchange_rate\", \"transfer\", \"common_policy\", \"transfers\", \"peripheral\", \"central\", \"difference\", \"infrastructure\", \"regional_transfers\", \"imbalance\", \"imbalances\", \"adjustment\", \"structural\", 'regional_development'],\n",
    "        6: [\"transfer\", \"budget\", \"budgetary policy\", \"common_policy\", \"adjustment\", \"financial\", \"increase\", \"community_budget\"],\n",
    "        7: [\"parallel_currency\", \"private\", \"private_ecu\", \"ecu\", \"currency\", \"basket\", \"attractive\", \"business\"],\n",
    "        8: [\"independence\", \"board\", \"decision\", \"rate\", \"interest rate\", \"authority\", \"central\", \"credibility\", \"european_central_bank\", \"central\", \"law\", \"escb\", \"administer\", \"third_currencies\", \"council_governors\", \"quantitative\", \"control\", \"technique\", \"aggregates\", \"reserves\", \"compulsory\"],\n",
    "        9: [\"larosière\", \"monetary_fund\", \"erf\", \"reserve_fund\"],\n",
    "        10: [\"convergence\", \"exchange_rate\", \"capital\", \"adjustment\", \"directive\", \"coordination\", \"welfare\", \"centre\", \"precondition\", \"binding\", \"inflation\"],\n",
    "        11: [\"wages\", \"exchange_rate\", \"income\", \"unemployment\", \"employment\", \"productivity\", \"adjustment\", \"competitive\", 'work', 'wage', \"migration\"],\n",
    "        12: [\"taxes\", \"exchange_rate\", \"harmonise\"],\n",
    "        13: [\"council\", \"ecofin\", \"parliament\", \"european_parliament\", \"statement\", \"veto\", \"institution\", \"sovereignty\", \"brussels\", \"central\", \"centralisation\", \"law\", \"speed\", \"decision\", \"fecom\", \"credibility\", \"authority\", \"european_council\", \"heads_state\", \"heads_government\", \"subsidiarity\", \"rome\", \"treaty_rome\", \"legitimisation\"],\n",
    "        14: [\"market\", \"market_mechanism\", \"constraint\", \"borrow\", \"limit\", \"gdp\", \"savings\", \"binding\", \"size\", \"discipline\"],\n",
    "}\n",
    "\n",
    "seed_topic_list = [priors_dict[i] for i in priors_dict]"
   ]
  },
  {
   "cell_type": "code",
   "execution_count": null,
   "metadata": {
    "ExecuteTime": {
     "end_time": "2024-01-12T13:51:09.236322Z",
     "start_time": "2024-01-12T13:50:57.038Z"
    },
    "tags": [
     "hermeneutics"
    ]
   },
   "outputs": [],
   "source": [
    "def search_gLDA(corpus, list_topic_nums, alphas, iter_num, min_df=10, min_cf=5):\n",
    "    cv_values = []\n",
    "    umass_values = []\n",
    "    model_list = []\n",
    "    alphas_out = []\n",
    "    \n",
    "    for alpha in tqdm(alphas):\n",
    "        for num_topics in tqdm(list_topic_nums, leave=False):\n",
    "            # print(\"Training: {} alpha and {} topics...\".format(alpha, num_topics))\n",
    "            ### Build model\n",
    "            mdl = tp.LDAModel(k=num_topics, \n",
    "                  min_cf=min_df, \n",
    "                  min_df=min_cf, \n",
    "                  corpus=corpus,\n",
    "                  alpha=alpha\n",
    "                 )\n",
    "            \n",
    "            ## Seed topics\n",
    "            for seed_id in priors_dict:\n",
    "                for prior_word in priors_dict[seed_id]:\n",
    "                    mdl.set_word_prior(prior_word, [0.95 if k == seed_id else 0.1 for k in range(num_topics)])\n",
    "            \n",
    "            # init\n",
    "            mdl.train(0)\n",
    "            \n",
    "            # train\n",
    "            for i in range(0, iter_num, 10):\n",
    "                mdl.train(10)\n",
    "                # print('Iteration: {}\\tLog-likelihood: {}'.format(i, mdl.ll_per_word))\n",
    "\n",
    "            ### get stats\n",
    "            model_list.append(mdl)\n",
    "            coh_cv = tp.coherence.Coherence(mdl, coherence='c_v')\n",
    "            coh_um = tp.coherence.Coherence(mdl, coherence='u_mass')\n",
    "            cv_values.append(coh_cv.get_score())\n",
    "            umass_values.append(coh_um.get_score())\n",
    "            alphas_out.append(alpha)\n",
    "\n",
    "    return model_list, cv_values, umass_values, alphas_out"
   ]
  },
  {
   "cell_type": "code",
   "execution_count": null,
   "metadata": {
    "ExecuteTime": {
     "end_time": "2024-01-12T13:51:09.237988Z",
     "start_time": "2024-01-12T13:50:57.041Z"
    },
    "tags": [
     "hermeneutics"
    ]
   },
   "outputs": [],
   "source": [
    "### List of hyperparameters\n",
    "iter_num = 500 \n",
    "list_topic_nums = np.arange(10, 200, 10).tolist()\n",
    "alphas = [0.0001, 10]\n",
    "re_run = False\n",
    "\n",
    "if re_run == True:\n",
    "    ## Search wrapper func\n",
    "    model_list, coherence_values, umass_values, alpha_values = search_gLDA(\n",
    "                                                            corpus = corpus,\n",
    "                                                            list_topic_nums = list_topic_nums, \n",
    "                                                            iter_num = iter_num,\n",
    "                                                            alphas = alphas,\n",
    "                                                            min_df = 20,\n",
    "                                                            min_cf = 10,\n",
    "                                                            )\n",
    "    "
   ]
  },
  {
   "cell_type": "code",
   "execution_count": null,
   "metadata": {
    "ExecuteTime": {
     "end_time": "2024-01-12T13:51:09.239665Z",
     "start_time": "2024-01-12T13:50:57.044Z"
    },
    "tags": [
     "hermeneutics"
    ]
   },
   "outputs": [],
   "source": [
    "import numpy as np\n",
    "import matplotlib.pylab as plt\n",
    "\n",
    "if re_run == True:\n",
    "    ### Create DF for all the models\n",
    "    val = pd.DataFrame()\n",
    "    val['Num Topics'] = [model_list[i].k for i, v in enumerate(model_list)]\n",
    "    val['Coherence Score'] = coherence_values\n",
    "    val['Alpha Parameter'] = alpha_values\n",
    "    val['Alpha Parameter'] = val['Alpha Parameter'].fillna(0)\n",
    "    val['UMass Score'] = umass_values\n",
    "    val['Models'] = model_list\n",
    "\n",
    "    measures = ['Coherence Score', 'UMass Score']\n",
    "\n",
    "    for measure in measures:\n",
    "        v = pd.pivot_table(val, index='Num Topics', values=measure, columns='Alpha Parameter')\n",
    "        v = v.reset_index().reset_index(drop=True)\n",
    "\n",
    "        ys = []\n",
    "        for alpha in alphas:\n",
    "            v = val[val['Alpha Parameter']== alpha]\n",
    "            ys.append(v[measure].values)\n",
    "\n",
    "        x = list_topic_nums\n",
    "        plt.figure(figsize=(10, 6), dpi=100, facecolor='w', edgecolor='k')\n",
    "        n = len(alphas)\n",
    "        colors = plt.cm.Blues(np.linspace(0.5,1,n))\n",
    "\n",
    "        for i, a in zip(range(n), alphas):\n",
    "            y = ys[i]\n",
    "            plt.plot(x, y, color=colors[i], label=a)\n",
    "\n",
    "        plt.xlabel(\"Num Topics\")\n",
    "        plt.ylabel(measure)\n",
    "        plt.title(\"Delors Dataset\")\n",
    "        plt.legend(loc='lower right', \n",
    "                    shadow=False, \n",
    "                    title='Alpha', \n",
    "                    bbox_to_anchor=(1.15, 0)\n",
    "                    )\n",
    "\n",
    "        plt.savefig('./script/topic_model/gLDA_{}_{}.png'.format('mallet', measure), dpi=200)\n",
    "        plt.show()"
   ]
  },
  {
   "cell_type": "code",
   "execution_count": null,
   "metadata": {
    "ExecuteTime": {
     "end_time": "2024-01-12T13:51:09.241807Z",
     "start_time": "2024-01-12T13:50:57.047Z"
    },
    "tags": [
     "hermeneutics"
    ]
   },
   "outputs": [],
   "source": [
    "optimal_alpha = 10\n",
    "\n",
    "if re_run == True:\n",
    "    vv = val[val['Alpha Parameter']==optimal_alpha]\n",
    "    print(vv.loc[vv['Coherence Score'].idxmax()])\n",
    "    print('\\n')\n",
    "    print(vv.loc[vv['UMass Score'].idxmin()])\n",
    "    #vv.head()\n",
    "optimal_topics = 70\n",
    "optimal_alpha = 10\n",
    "\n",
    "if re_run == True:\n",
    "    model = val[(val['Alpha Parameter']==optimal_alpha) & (val['Num Topics']==optimal_topics)]['Models'].values[0]\n",
    "    model.save('./script/topic_model/gLDA.bin')\n",
    "else:\n",
    "    model = tp.LDAModel.load('./script/topic_model/gLDA.bin')\n",
    "for k in range(model.k):\n",
    "    print(\"== Topic #{} ==\".format(k))\n",
    "    for word, prob in model.get_topic_words(k, top_n=10):\n",
    "        print(word, prob, sep='\\t')\n",
    "    print()"
   ]
  },
  {
   "cell_type": "code",
   "execution_count": null,
   "metadata": {
    "ExecuteTime": {
     "end_time": "2024-01-12T13:51:09.243532Z",
     "start_time": "2024-01-12T13:50:57.050Z"
    },
    "tags": [
     "hermeneutics"
    ]
   },
   "outputs": [],
   "source": [
    "mdl = model\n",
    "topic_term_dists = np.stack([mdl.get_topic_word_dist(k) for k in range(mdl.k)])\n",
    "doc_topic_dists = np.stack([doc.get_topic_dist() for doc in mdl.docs])\n",
    "doc_topic_dists /= doc_topic_dists.sum(axis=1, keepdims=True)\n",
    "doc_lengths = np.array([len(doc.words) for doc in mdl.docs])\n",
    "vocab = list(mdl.used_vocabs)\n",
    "term_frequency = mdl.used_vocab_freq"
   ]
  },
  {
   "cell_type": "code",
   "execution_count": null,
   "metadata": {
    "ExecuteTime": {
     "end_time": "2024-01-12T13:51:09.245451Z",
     "start_time": "2024-01-12T13:50:57.053Z"
    },
    "tags": [
     "hermeneutics"
    ]
   },
   "outputs": [],
   "source": [
    "# extract candidates for auto topic labeling\n",
    "extractor = tp.label.PMIExtractor(min_cf=5, max_cand=1100)\n",
    "cands = extractor.extract(mdl)\n",
    "\n",
    "labeler = tp.label.FoRelevance(mdl, cands, min_df=5, smoothing=1e-2, mu=0.25)\n",
    "# for k in range(mdl.k):\n",
    "#     print(\"== Topic #{} ==\".format(k))\n",
    "#     print(\"Labels:\", ', '.join(label for label, score in labeler.get_topic_labels(k, top_n=10)))\n",
    "#     for word, prob in mdl.get_topic_words(k, top_n=10):\n",
    "#         print(word, prob, sep='\\t')\n",
    "#     print()\n",
    "\n",
    "topics_labels_df = pd.DataFrame()\n",
    "topics_labels_df['topics'] = np.arange(0,mdl.k,1)\n",
    "words_ = [', '.join(word for word, prob in mdl.get_topic_words(k, top_n=10)) for k in range(mdl.k)]\n",
    "labels_ = [', '.join(label for label, score in labeler.get_topic_labels(k, top_n=10)) for k in range(mdl.k)]\n",
    "topics_labels_df['labels'] = labels_ \n",
    "topics_labels_df['words'] = words_ \n",
    "\n",
    "topics_labels_df.to_excel('./script/topic_model/topic_labels.xlsx', index=False)"
   ]
  },
  {
   "cell_type": "code",
   "execution_count": null,
   "metadata": {
    "ExecuteTime": {
     "end_time": "2024-01-12T13:51:09.246886Z",
     "start_time": "2024-01-12T13:50:57.056Z"
    },
    "tags": [
     "hermeneutics"
    ]
   },
   "outputs": [],
   "source": [
    "doc_topics_df = pd.DataFrame(doc_topic_dists)\n",
    "\n",
    "dominant_topics = []\n",
    "max_probabilities = []\n",
    "\n",
    "# Get the indices of maximum element in numpy array\n",
    "for row in doc_topic_dists:\n",
    "    max_prob = maxElement = np.amax(row)\n",
    "    dom_topic = np.where(row == np.amax(row))[0]\n",
    "    dominant_topics.append(dom_topic)\n",
    "    max_probabilities.append(max_prob)"
   ]
  },
  {
   "cell_type": "code",
   "execution_count": null,
   "metadata": {
    "ExecuteTime": {
     "end_time": "2024-01-12T13:51:09.248323Z",
     "start_time": "2024-01-12T13:50:57.059Z"
    },
    "tags": [
     "hermeneutics"
    ]
   },
   "outputs": [],
   "source": [
    "# create\n",
    "df_dominant_topic = pd.DataFrame(columns=['Document_No', 'Dominant_Topic', 'Topic_Perc_Contrib', 'Keywords'])\n",
    "\n",
    "# assign\n",
    "df_dominant_topic['Document_No'] = range(0,len(doc_topic_dists))\n",
    "df_dominant_topic['Dominant_Topic'] = [dt[0] for dt in dominant_topics]\n",
    "df_dominant_topic['Topic_Perc_Contrib'] = max_probabilities\n",
    "df_dominant_topic['Keywords'] = [topics_labels_df.at[k[0], 'labels'] for k in dominant_topics]"
   ]
  },
  {
   "cell_type": "code",
   "execution_count": null,
   "metadata": {
    "ExecuteTime": {
     "end_time": "2024-01-12T13:51:09.249874Z",
     "start_time": "2024-01-12T13:50:57.062Z"
    },
    "tags": [
     "hermeneutics"
    ]
   },
   "outputs": [],
   "source": [
    "def get_len_sent(x):\n",
    "    if x:\n",
    "        return len(x.split())\n",
    "    else:\n",
    "        return 0"
   ]
  },
  {
   "cell_type": "code",
   "execution_count": null,
   "metadata": {
    "ExecuteTime": {
     "end_time": "2024-01-12T13:51:09.251661Z",
     "start_time": "2024-01-12T13:50:57.065Z"
    },
    "tags": [
     "hermeneutics"
    ]
   },
   "outputs": [],
   "source": [
    "d['len_sentence'] = d['text_clean'].apply(get_len_sent)\n",
    "\n",
    "d[['Dominant_Topic', 'Topic_Perc_Contrib', 'Keywords']] = df_dominant_topic[['Dominant_Topic', 'Topic_Perc_Contrib', 'Keywords']]"
   ]
  },
  {
   "cell_type": "code",
   "execution_count": null,
   "metadata": {
    "ExecuteTime": {
     "end_time": "2024-01-12T13:51:09.253459Z",
     "start_time": "2024-01-12T13:50:57.068Z"
    },
    "tags": [
     "hermeneutics"
    ]
   },
   "outputs": [],
   "source": [
    "d.to_csv('./script/delors_gLDA.csv', index=False)\n",
    "d.to_excel('./script/topic_model/delors_gLDA.xlsx', index=False)"
   ]
  },
  {
   "cell_type": "markdown",
   "metadata": {
    "tags": [
     "narrative"
    ]
   },
   "source": [
    "In turn, we manually interpret and label the 70 topics into two sets of hierarchical labels. As subtopics, where we only interpret the results of the models, and as higher-level topics. In table 8 we present the results of the topic modelling methodology, as well as the two sets of labels we defined."
   ]
  },
  {
   "cell_type": "code",
   "execution_count": null,
   "metadata": {
    "ExecuteTime": {
     "end_time": "2024-01-12T13:51:09.255440Z",
     "start_time": "2024-01-12T13:50:57.072Z"
    },
    "tags": [
     "hermeneutics"
    ]
   },
   "outputs": [],
   "source": [
    "## re-read labelled dataset\n",
    "pd.options.display.max_rows = 200\n",
    "tlabel = pd.read_excel('./script/topics_manually_labelled.xlsx', \n",
    "                       sheet_name='guidedLDA',\n",
    "                      )"
   ]
  },
  {
   "cell_type": "code",
   "execution_count": null,
   "metadata": {
    "ExecuteTime": {
     "end_time": "2024-01-12T13:51:09.257127Z",
     "start_time": "2024-01-12T13:50:57.074Z"
    },
    "jdh": {
     "object": {
      "source": [
       "Topics labelling"
      ]
     }
    },
    "scrolled": false,
    "tags": [
     "table-8"
    ]
   },
   "outputs": [],
   "source": [
    "tlabel"
   ]
  },
  {
   "cell_type": "markdown",
   "metadata": {
    "tags": [
     "narrative"
    ]
   },
   "source": [
    "Finding the coherent theme that unifies the topics is the most difficult interpretative task. A close reading of the interventions grouped under the eight higher-level topics identified by the LDA however confirms the automated results. Table 9 below provides a descriptive title to each of the topics identified in the LDA. "
   ]
  },
  {
   "cell_type": "markdown",
   "metadata": {
    "jdh": {
     "object": {
      "source": [
       "Analytical presentation of the gLDA topics"
      ]
     }
    },
    "tags": [
     "table-9"
    ]
   },
   "source": [
    "|Topic 0|EMU design|\n",
    "|:----|:----|\n",
    "|Topic 1|Economic union|\n",
    "|Topic 2|Monetary policy|\n",
    "|Topic 3|ECU|\n",
    "|Topic 4|Institutional change|\n",
    "|Topic 5|Miscellaneous|\n",
    "\n"
   ]
  },
  {
   "cell_type": "markdown",
   "metadata": {
    "tags": [
     "narrative"
    ]
   },
   "source": [
    "Topic 0 concerns EMU design, and is the most prominent of all. It concerns issues related to the setting up of scenarios, the general structure of EMU, reflections on the advantages and drawbacks of EMU, as well as drafting questions; topic 1 concerns ‘economic union’ broadly speaking, that is, how will member states cope with the inability to devalue their currency, and therefore includes the role of fiscal policy, regional policy and wages; topic 2 relates more specifically to monetary union and especially the future common monetary policy; topic 3 is on the ECU and its use; topic 4 relates to institutional change, that is, the need for a new treaty, the question of the political impulse, and of the overall institutional balance; and finally topic 5 covers sentences that do not really relate to a specific topic, but are instead general comments, sentences of transition between statements, or simply unrelated to work of the Committee. Looking at the grand totals, we can see that most of the discussion focused on the first two topics, EMU design and economic union, that add up to almost exactly three quarters of the total (75.9%). The other topics are very little discussed overall. "
   ]
  },
  {
   "cell_type": "markdown",
   "metadata": {
    "tags": [
     "narrative"
    ]
   },
   "source": [
    "Unpacking the first two topics which are the two most relevant for our argument allows to further refine the picture. Topic 0 on EMU design encompasses very broad reflections about EMU, including some related to the purpose of the Report. For instance, Doyle’s description of what the Committee is doing matched topic ‘EMU design’: “the purpose of this Report basically is to go back to the European Council and say: you said you wanted EMU, do you really understand what it implies and that we have set out, and says then, alright if you still want it then this is how you go about it” (ECB Archives, Record of eighth meeting). Topic 0 also includes reflections on the balance between economic union and monetary union – therefore touching upon Topic 1 – and the issue of the so-called parallel progress between both. For instance, Leigh-Pemberton’s call for parallel progress in monetary and economic integration – “I am firmly of the view that if in fact progress is to be made it has got to be parallel progress with monetary and exchange rate co-operation on the one side and economic progress on the other” (ECB Archives, DelC 2, First meeting.) – ends up being associated with the topic of ‘EMU design’.  Similarly, Thygesen’s reflections on the balance between economic and monetary integration in the Report, concluding that he is happy with the report as it stands in spite of the imbalance in favour of monetary integration (ECB Archives, DelC 2, Fourth meeting). However, other remarks by the same actors during the first meeting give opposite categorisation, with Thygesen ending in the ‘economic union’ topic (as he reviews progress since the snake, and notes that monetary integration moved ahead of economic integration (ECB Archives, DelC 2, First meeting)) while Leigh-Pemberton ends in the ‘EMU design’ topic. "
   ]
  },
  {
   "cell_type": "markdown",
   "metadata": {
    "tags": [
     "narrative"
    ]
   },
   "source": [
    "These marginal results, however, do not affect the conclusions, but interestingly reflect how difficult it is, whether through natural language processing, or analytically, to disentangle between the different components of EMU. Topic 1 on ‘economic union’ encompasses discussion about the implications of the fixing of exchange rates in the monetary union, including the role of financial transfers of resources and regional policy. A comment from de Larosière encapsulated this well: “One has to explain that if one removes the exchange rate instrument, those countries with structural difficulties, where productivity is less, if they are deprived of the exchange rate instrument this will mean additional problems for them.” "
   ]
  },
  {
   "cell_type": "markdown",
   "metadata": {
    "tags": [
     "narrative"
    ]
   },
   "source": [
    "Turning to the content of economic union, Hoffmeyer insisted that “we have to specify exactly what the requirements in the monetary field and in the fiscal field are.” He then identifies five themes from the draft report: budgetary policy rules, welfare implications, tax harmonisation, wages, and financial transfer of resources. He insists that these “far-reaching” implications should be spelled out in plain to the heads of government: “it is for clarification, because politicians often only read summaries! You have to be very clear about what the demands are” (ECB Archives, DelC 2, Fourth meeting). Delors suggested in the sixth meeting that “economic union be defined in terms of rules, like monetary union” and focuses on four main “pillars”: “rules governing competition,” “an environment that will ensure that the market will operate as well as possible,” a “Community policy that would concentrate on cooperation and regional development,” coordination of budgetary policy with constraints to be defined. Delors then explained the reasons behind his rather unambitious approach to ‘economic union’: “By virtue of the principle of subsidiarity we cannot do everything. In 1992 the Community budget will amount to 1.2% of gross GDP of member countries, perhaps at the end of the century we shall have 3% public expenditure. In other words, economic union will be less spectacular than monetary union for reasons of common sense” (ECB Archives, DelC 2, Sixth meeting). Delors was even clearer in an exchange with Chalikias that was not transcribed. In insisting that rules should be strict, the Greek central banker asks for “more authority [to be given] to the European Commission for the implementation of macro-economic policy,” to which Delors, in closing the meeting, only replies: “it’s premature. As president of the Commission, it’s premature” (ECB Archives, tapes of the sixth meeting, tape 2457-B-1989-02-14) "
   ]
  },
  {
   "cell_type": "markdown",
   "metadata": {
    "tags": [
     "narrative"
    ]
   },
   "source": [
    "Complementing the gLDA analysis of the transcripts with the listening to the tapes allows us to further refine the picture. While some remarks offered reflections on wage policy and regional policy, others raised the topic of economic union only to display some scepticism. In the fourth meeting, Delors thus warned that: “If the majority feel that economic union must precede monetary union then you should say so immediately because then you have to defend a different concept but this will lead to political failure because I already see what’s going to happen at the next summit” (ECB Archives, tapes of the fourth meeting, 2444-1998-12-13). Lamfalussy was on the same line: “We should be very careful of not giving the impression that all powers have to be transferred to a sort of European government. A, it’s not sellable politically, and b it is not realistic” (ECB Archives, tapes of the fourth meeting, 2443-A-1998-12-13). In spite of this Doyle regularly came back in the discussions to the topic of regional policy. This is partly due to his personal – and indeed the longstanding interest of the Irish government in – the topic, and also because he submitted a paper on regional policy to the Committee (ECB Archives, DelC 5.2, Maurice Doyle, Regional Policy and European Economic Integration, January 1988). In the tapes we can even listen to Doyle joking about his own obsessive interest in the topic: “I don’t want to give the impression that everything reminds me of regional policy like the Frenchman on sex, if I can say that!” (ECB Archives, tapes of the sixth meeting, tape 2455-B-1989-02-14). Doyle’s regular interventions on regional policy also contribute to explain why he arrives fourth in the list of the longest speaking members in the Committee, as shown above."
   ]
  },
  {
   "cell_type": "markdown",
   "metadata": {
    "tags": [
     "narrative"
    ]
   },
   "source": [
    "The issue of the difficulty of defining economic union, especially in contrast to the ease of defining what is monetary union, came up frequently. In an intervention during the same fourth meeting, Doyle thus explained: “monetary union, you can draw a circle around and write in the circle what it means, you cannot with economic union. (…) If you had enough political will and agreement in Europe you could set up a monetary union tomorrow, well, next year, let’s say, but it would not survive without having made a great deal of progress on what I’m calling for shorthand ‘economic union’”(ECB Archives, tapes of the fourth meeting, 2444-1998-12-13). To Pöhl who complained that “The emphasis in this skeleton is much too much on monetary integration instead of economic integration” (ECB Archives, tapes of the fourth meeting, 2443-A-1998-12-13) Lamfalussy replied: “if you want to begin with economic union, there is no a priori simple definition of what economic union is, there is no historical experience which is similar to any other historical experience in this respect, that is why, from a purely editorial point of view it is easier to begin with monetary union because the main characteristics of monetary union are known. Now I know that this may generate a wrong impression and one may wish to correct that impression but don’t ask the authors to start with economic union, because how are you gonna describe it?” (ECB Archives, tapes of the fourth meeting, 2443-A-1998-12-13). And Delors concluded with what he implied was an unrealistic option: “Unless, as I indicated in my introduction, you say that this is a transfer of all powers of economic policy to the Community” (ECB Archives, tapes of the fourth meeting, 2443-A-1998-12-13)."
   ]
  },
  {
   "cell_type": "markdown",
   "metadata": {
    "tags": [
     "narrative"
    ]
   },
   "source": [
    "In order to provide a further check on the gLDA topics, we compare and contrast the gLDA findings with the subjective summaries of the discussions that the two rapporteurs of the Committee drafted after each meeting except the last two. These documents were written for the purpose of having a clear summarised record of the main topics discussed, agreements reached, and issues to settle as the work of the Committee progressed. These summaries therefore represent a detailed and reliable track-record of what was discussed in the Committee (unfortunately, the summaries of the last three meetings are missing. We do not know whether this means that the last three meetings have not been the subject of a summary, or whether this summary has disappeared) However, the former is more likely than the latter, since the personal archives of the two rapporteurs contain the same summaries. Table 5 below systematises the summaries provided by the rapporteurs into the meetings and topics. (all text is original quotations from the summaries, in order to respect the original phrasing, conceptualising and presentation of the rapporteurs; the summaries are available in ECB Archives, and HAEU) The table reports the themes, as presented and defined by the rapporteurs, by quoting directly from their summaries. This comparison confirms that the topics raised correspond indeed to the distribution of gLDA topics in the meetings presented in Table 8."
   ]
  },
  {
   "cell_type": "markdown",
   "metadata": {
    "jdh": {
     "object": {
      "source": [
       "Summaries of the meetings provided by the rapporteurs"
      ]
     }
    },
    "tags": [
     "table-10"
    ]
   },
   "source": [
    "|Meeting|Themes|Sub-themes|Corresponding LDA topic|\n",
    "|:----|:----|:----|:----|\n",
    "|1|“Organisational aspects”|n/a|Topics 0 and 5|\n",
    "| |“Lessons drawn from the experience of the Werner Report”|“definition of EMU”|Topic 0|\n",
    "| | |“issue of parallelism”|Topic 0 and 1|\n",
    "| | |“nature of the intermediate steps”|Topics 0 and 4|\n",
    "| | |“nature of the monetary union (fixed but adjustable rates vs ‘fixed-fixed’)”|Topics 0 and 2|\n",
    "|2|“Characteristics and implications of an economic union consistent with a monetary union”|“problems arising in a situation of irrevocably fixed exchange rates”|Topic 1|\n",
    "| | |“policies needed to deal with these problems”|Topic 1|\n",
    "| | |“institutional arrangements required to formulate and execute such policies”|Topics 0 and 4|\n",
    "| |“a first exchange of views on an outline for the final report”|n/a|Topic 0|\n",
    "|3|“a first exchange of views on possible concrete steps towards economic and monetary union. The overwhelming part of the discussion centred on issues relating to institutional changes and, in particular, the question of whether a meaningful first concrete step could be made without or only with legal changes”|n/a|Topics 0 and 4|\n",
    "|4|“A general exchange of views developed on the skeleton. Considerable time was devoted to discussing whether the report should deal with the following question: if we have (a) the single market in 1992 do we also need (b) monetary union and (c) macro-economic policy coordination with financial transfers?”|n/a|Topic 0|\n",
    "| |“the rest of the meeting was devoted to a section-by-section discussion of Part II of the skeleton, i.e. on the part of the report dealing with the final stage of the economic and monetary union”|n/a|Topics 0 and 4|\n",
    "|5|“The meeting was devoted to the discussion of a new draft of Part III of the report, issues relating to the ECU”|“The general discussion of Part III centred mainly on a review of the two scenarios presented in Stage I, with a particular emphasis on the question of whether it would be desirable to describe two alternative scenarios in the final report” [one of the scenarios is the European Reserve Fund]; drafting suggestions; discussion on stages II and III”|Topics 0 and 3|\n",
    "| |“Issues related to the ECU: need for a single currency; parallel currency approach; link between the official and the private ECU; the ECU as a numéraire for private transactions and its role in promoting monetary union; the ECU as a monetary policy instrument”|n/a|Topics 0 and 3|\n",
    "| |“Organizational matters”|n/a|Topics 0 and 5|\n",
    "\n",
    "\n"
   ]
  },
  {
   "cell_type": "code",
   "execution_count": null,
   "metadata": {
    "ExecuteTime": {
     "end_time": "2024-01-12T13:51:09.258896Z",
     "start_time": "2024-01-12T13:50:57.083Z"
    },
    "tags": [
     "hermeneutics"
    ]
   },
   "outputs": [],
   "source": [
    "d = d[d.columns.drop(list(d.filter(regex='Unnamed')))]\n",
    "d = d[d['speaker_clean']!='?']"
   ]
  },
  {
   "cell_type": "code",
   "execution_count": null,
   "metadata": {
    "ExecuteTime": {
     "end_time": "2024-01-12T13:51:09.260591Z",
     "start_time": "2024-01-12T13:50:57.086Z"
    },
    "tags": [
     "hermeneutics"
    ]
   },
   "outputs": [],
   "source": [
    "d = pd.merge(d, tlabel, left_on='Dominant_Topic', right_on='topics', how='left')\n",
    "d = d[d['text_clean'].notna()]"
   ]
  },
  {
   "cell_type": "code",
   "execution_count": null,
   "metadata": {
    "ExecuteTime": {
     "end_time": "2024-01-12T13:51:09.262109Z",
     "start_time": "2024-01-12T13:50:57.089Z"
    },
    "tags": [
     "hermeneutics"
    ]
   },
   "outputs": [],
   "source": [
    "d['len_'] = d.text_split.apply(lambda x: len(x.split()))\n",
    "d['perc_'] = (d.len_ / d.len_.sum()) * 100"
   ]
  },
  {
   "cell_type": "code",
   "execution_count": null,
   "metadata": {
    "ExecuteTime": {
     "end_time": "2024-01-12T13:51:09.263624Z",
     "start_time": "2024-01-12T13:50:57.092Z"
    },
    "tags": [
     "hermeneutics"
    ]
   },
   "outputs": [],
   "source": [
    "d_topic_meeting = pd.pivot_table(d, \n",
    "                                  index='meeting',\n",
    "                                  columns='manual_label_parent',\n",
    "                                  values = 'intervention_id', \n",
    "                                  aggfunc='count',\n",
    "                                 ).fillna(0)\n",
    "\n",
    "d_topic_meeting_perc = pd.pivot_table(d, \n",
    "                                  index='meeting',\n",
    "                                  columns='manual_label_parent',\n",
    "                                  values = 'perc_', \n",
    "                                  aggfunc='sum',\n",
    "                                 ).fillna(0).round(decimals=1)\n",
    "d_topic_meeting_perc.loc['Totals'] = d_topic_meeting_perc.sum(numeric_only=True, axis=0)\n",
    "\n",
    "d_topic_person_child = pd.pivot_table(d, \n",
    "                                  index='speaker_clean',\n",
    "                                  columns='manual_label_child',\n",
    "                                  values = 'intervention_id', \n",
    "                                  aggfunc='count',\n",
    "                                 )\n",
    "\n",
    "d_topic_person_parent = pd.pivot_table(d, \n",
    "                                  index='speaker_clean',\n",
    "                                  columns='manual_label_parent',\n",
    "                                  values = 'intervention_id', \n",
    "                                  aggfunc='count',\n",
    "                                 )\n",
    "\n",
    "d_topic_person_w = pd.pivot_table(d, \n",
    "                                  index='speaker_clean',\n",
    "                                  columns='manual_label_parent',\n",
    "                                  values = 'perc_',\n",
    "                                  aggfunc= 'sum',\n",
    "                                 ).fillna(0).round(decimals=1)"
   ]
  },
  {
   "cell_type": "code",
   "execution_count": null,
   "metadata": {
    "ExecuteTime": {
     "end_time": "2024-01-12T13:51:09.265597Z",
     "start_time": "2024-01-12T13:50:57.095Z"
    },
    "jdh": {
     "object": {
      "source": [
       "Topics distribution"
      ]
     }
    },
    "tags": [
     "table-11"
    ]
   },
   "outputs": [],
   "source": [
    "d_topic_meeting_perc"
   ]
  },
  {
   "cell_type": "markdown",
   "metadata": {
    "tags": [
     "narrative"
    ]
   },
   "source": [
    "We can now compare and contrast the three elements: the topics identified through the gLDA analysis, the repartition of the gLDA topics by meeting, and the analysis of these meetings by the rapporteurs. The gLDA analysis therefore logically confirms that more time was spent in the discussions on the topics of substance related to EMU design and economic union (topics 0 and 1) rather than the four other topics. The overview provided in Table 5 highlights that topics are well distributed during individual meetings. Most importantly, as reflected in the summaries of the rapporteurs, topic 1 on economic union was extensively discussed during the second meeting devoted to the implications of locking exchange rate fluctuations (for which we have the second largest transcript with ca. 17000 words), and topic 1 emerges as the most discussed topic for the second meeting in the gLDA. Apart from a small predominance of Topic 0, other topics are fairly evenly distributed for the third meeting, but the transcript is relatively short (about 9000 words). The fourth meeting focused on discussing the skeleton report, which explains why two topics, EMU design and economic union stand out. The fifth meeting, for which we have the largest transcript (ca. 21000 words) focused on Chapter III of the Report and the proposal for a European Reserve Fund, and hence topic 0 dominates the discussion. The last two meetings dealt with the skeleton report, which explains that topics are again fairly evenly distributed, apart from the salience of topic 0 in the last meeting."
   ]
  },
  {
   "cell_type": "code",
   "execution_count": null,
   "metadata": {
    "ExecuteTime": {
     "end_time": "2024-01-12T13:51:09.267443Z",
     "start_time": "2024-01-12T13:50:57.099Z"
    },
    "jdh": {
     "object": {
      "source": [
       "Number of sentences for each topics per person"
      ]
     }
    },
    "tags": [
     "table-12"
    ]
   },
   "outputs": [],
   "source": [
    "d_topic_person_w\n",
    "# Number of sentences for each topics per person"
   ]
  },
  {
   "cell_type": "markdown",
   "metadata": {
    "tags": [
     "narrative"
    ]
   },
   "source": [
    "Looking at the distribution of topics by speaker, we can see that some participants have more interventions attributed to the topic of economic union than any other. Lamfalussy and Delors are the two most interesting cases as they have substantial speaking time. Pöhl’s interventions are relatively evenly spread between topic 0 and 1 (10.7 vs 7.3). Interestingly, Doyle’s overall balance of interventions leans more towards EMU design than economic union, but only by a small margin (2.6 vs 1.8). Conversely, de Larosière’s interventions are very predominantly under the topic of EMU design. This is logical as the governor of the Banque de France developed and discussed his idea of a European Reserve Fund, which had more to do with the design of EMU (if not indeed monetary union alone) than issues related to economic union."
   ]
  },
  {
   "cell_type": "markdown",
   "metadata": {
    "tags": [
     "narrative"
    ]
   },
   "source": [
    "One important topic is absent from the gLDA but important the design of EMU, namely, banking regulation and supervision. A close reading of the transcript and the summaries as well as a listening to the tapes contributes to explain this absence. The topic of banking regulation and supervision was tackled, but only very marginally, and thus is not substantial enough to form one of the five coherent topics identified by the gLDA. Banking regulation and supervision is not mentioned in the summaries of the meetings. "
   ]
  },
  {
   "cell_type": "markdown",
   "metadata": {
    "tags": [
     "narrative"
    ]
   },
   "source": [
    "The only intervention explicitly mentioning the topic is that of Duisenberg, “I would also want to add in this list of guiding principles, (…) that this federation of central banks or central bank should be charged with banking supervision at the Community level” (ECB Archives, DelC 2.4, CSEMU: meeting  on 13 December 1988. See also the archives of the BSSC in ECB Archives, CoG 6, Banking supervisory issues and expert groups). The real substantial discussion happened elsewhere, in the Banking Supervisory Sub-Committee (BSSC) of the EEC Committee of Governors, that the Delors Report suggested creating, and that first met in March 1989 (In Stage 1, the Delors Report recommended the creation of an “advisory committee (…) on matters of common interest in the field of banking supervision policy.” (Committee for the Study of Economic and Monetary Union, Report on Economic and Monetary Union in the European Community, 17 April 1989. See also <cite data-cite=\"14286898/WIFIUGXD\"></cite>). The whole subject of banking regulation and supervision was then delegated for discussion within the BSSC that gathered high-level representatives of the supervisory authorities of the EEC member states. "
   ]
  },
  {
   "cell_type": "markdown",
   "metadata": {
    "tags": [
     "narrative"
    ]
   },
   "source": [
    "The BSSC published a report on banking supervision in the European System of Central Banks (ESCB) and provided advice to the Committee of Governors, which then fed into the CoG’s contribution to the Intergovernmental Conference for the Maastricht Treaty  In that sense, the fact that LDA did not pick up banking regulation and supervision is revealing of the fact that it was, in a large part, overlooked and underestimated by the members of the Committee (ECB Archives, CoG 6.2/3.6, Quinn to Pöhl, Supervisory Sub-Committee: The role of the ESCB in banking supervision, 9 May 1990)."
   ]
  },
  {
   "cell_type": "markdown",
   "metadata": {
    "tags": [
     "narrative"
    ]
   },
   "source": [
    "## Papers submitted and papers not submitted to the Committee"
   ]
  },
  {
   "cell_type": "markdown",
   "metadata": {
    "tags": [
     "narrative"
    ]
   },
   "source": [
    "The fact that economic union was central to the discussions of the Delors Committee is even more interesting knowing that many papers that were related to this topic were in reality not circulated to the Committee members. The rapporteurs of the Delors Committee drew up detailed lists of the different papers at their disposal (see List of papers prepared or under preparation for the Committee, and Papers distributed to the Committee, both in DelC 1.2, ECB Archives and various iterations of List of papers by subject, in DelC 1.2, ECB Archives and TPS 196, HAEU). They identified those papers that were distributed to the Committee members, and those papers that, in the end, did not get circulated. Figure 6 represents the authors of the papers and the theme to which their paper was attached."
   ]
  },
  {
   "cell_type": "code",
   "execution_count": null,
   "metadata": {
    "ExecuteTime": {
     "end_time": "2024-01-12T13:51:09.269101Z",
     "start_time": "2024-01-12T13:50:57.105Z"
    },
    "tags": [
     "figure-6"
    ]
   },
   "outputs": [],
   "source": [
    "metadata6 = {\n",
    "    \"jdh\":{\n",
    "        \"module\": \"object\",\n",
    "        \"object\": {\n",
    "            \"type\": \"image\",\n",
    "            \"source\": [\n",
    "                \"authors and themes of the papers distributed to the Delors Committee (Source: ECB Archives and TPS papers, HAEU)\"\n",
    "            ]\n",
    "        }\n",
    "    }\n",
    "}\n",
    "\n",
    "display(Image(\"./media/fig6.png\"), metadata = metadata6)"
   ]
  },
  {
   "cell_type": "code",
   "execution_count": null,
   "metadata": {
    "ExecuteTime": {
     "end_time": "2024-01-12T13:51:09.270838Z",
     "start_time": "2024-01-12T13:50:57.109Z"
    },
    "tags": [
     "figure-7"
    ]
   },
   "outputs": [],
   "source": [
    "metadata7 = {\n",
    "    \"jdh\":{\n",
    "        \"module\": \"object\",\n",
    "        \"object\": {\n",
    "            \"type\": \"image\",\n",
    "            \"source\": [\n",
    "                \"authors and themes of the papers not distributed to the Delors Committee (Source: ECB Archives and TPS papers, HAEU)\"\n",
    "            ]\n",
    "        }\n",
    "    }\n",
    "}\n",
    "\n",
    "\n",
    "display(Image(\"./media/fig7.png\"), metadata=metadata7)"
   ]
  },
  {
   "cell_type": "markdown",
   "metadata": {
    "tags": [
     "narrative"
    ]
   },
   "source": [
    "The papers distributed to the Delors Committee were for the most part authored by the Committee’s members, and revolved around the themes tackled by the Committee in equal manner: economic union, the ECU, monetary policy, and legal and institutional questions. By contrast, the papers not submitted to the Committee were predominantly penned by the Commission, and focused on various aspects related to the theme of economic union. This suggests a sidelining of the work carried out by the small group of Commission advisers on EMU to privilege the internal dynamics of the Committee. <cite data-cite=\"14286898/35HRLI8W\"></cite>"
   ]
  },
  {
   "cell_type": "markdown",
   "metadata": {
    "tags": [
     "narrative"
    ]
   },
   "source": [
    "## Conclusions"
   ]
  },
  {
   "cell_type": "markdown",
   "metadata": {
    "tags": [
     "narrative"
    ]
   },
   "source": [
    "The broad theme of economic union was therefore extensively discussed during the meetings of the Delors Committee. The fact that the centrality of economic union in the discussion of the Committee was not translated into a more concrete outcome in the Report highlights both the difficulties of defining what ‘economic union’ exactly entails and of agreeing on specific measures to implement. The Delors Committee members noted well both aspects. They struggled to define economic union, and they observed – as Delors put it more bluntly – that there were limits to what powers could be transfers to the European, federal level. The inability to have concluded a more balanced agreement between the ‘E’ and the ‘M’ of EMU cannot be blamed on the Delors Committee members for having overlooked the topic. \n",
    "What analysing in detail these transcripts and tapes allow us to observe is that the real ‘dead angle’ of the pre-Maastricht analysis of EMU was banking regulation and supervision. The consensus was that the framework of multiple directives on key subjects was enough. As much as for economic union, policymakers believed that there was no need to move supervisory tasks to the supranational level. Further to the centrality of economic union in the discussions of the Delors Committee, this article showed that the Delors Committee’s dynamics did not just revolve around the trio composed by the three most famous actors, that is, Delors, Pöhl and de Larosière. Not only were the three experts (Lamfalussy, Thygesen and Boyer) active participants in the debates, but Doyle, who advocated and spoke at length for regional policy. \n",
    "Finally, we hope that this article provides a methodological example of the combination of multiple types of sources (tapes, transcriptions, handwritten notes) with digital tools and close-reading analysis of the primary sources. As the above analysis showed, digital tools provided a useful support in providing evidence of the presence of economic union-related discussions in the Delors Committee meeting, but these tools also had their limits, and need to be complemented with a qualitative analysis of the sources. Much talk about ‘economic union’ was actually not transcribed, and has been used in this article to restore the richness of the debate.\n"
   ]
  },
  {
   "cell_type": "markdown",
   "metadata": {},
   "source": [
    "## References"
   ]
  },
  {
   "cell_type": "markdown",
   "metadata": {
    "tags": [
     "bibliography"
    ]
   },
   "source": [
    "<div class=\"cite2c-biblio\"></div><div class=\"cite2c-biblio\"></div><div class=\"cite2c-biblio\"></div>"
   ]
  }
 ],
 "metadata": {
  "celltoolbar": "Tags",
  "citation-manager": {
   "items": {}
  },
  "cite2c": {
   "citations": {
    "14286898/35HRLI8W": {
     "abstract": "This work is the first systematic study of the presidency of the European Commission. Drawing upon cases of attempted leadership by Jacques Delors, the Commission President from 1985-95, it examines the leadership capacity of the office-holder. This points to the inherently shared and contingent...",
     "accessed": {
      "day": 1,
      "month": 2,
      "year": 2019
     },
     "author": [
      {
       "family": "Endo",
       "given": "Ken"
      }
     ],
     "event-place": "London",
     "id": "14286898/35HRLI8W",
     "issued": {
      "year": 1999
     },
     "language": "en",
     "publisher": "Palgrave Macmillan",
     "publisher-place": "London",
     "title": "The Presidency of the European Commission under Jacques Delors: The Politics of Shared Leadership",
     "type": "book"
    },
    "14286898/49X25EH2": {
     "DOI": "https://doi.org/10.1111/ehr.13052",
     "URL": "https://onlinelibrary.wiley.com/doi/abs/10.1111/ehr.13052",
     "abstract": "Richard Nixon's August 1971 announcement of a set of policies known collectively as the New Economic Policy (NEP), or the ‘Nixon shock’, effectively terminated the Bretton Woods system (BWS) of fixed exchange rates that had governed the international monetary system since 1944. While there are many accounts of Nixon's decision to end the BWS, the secret Nixon White House tapes provide unique insights into the decision-making process and Nixon's struggle with this decision. Using the tapes as evidence, we find that Nixon resisted ending the BWS for political reasons and did not fully understand the NEP's strategy, particularly the fact that the domestic policies were designed to provide cover for the international policies. The tapes also clarify that the decision to adopt the NEP was made prior to the Camp David Summit of 13–15 August 1971 in response to general speculative pressure. While the US reacted to pressure on the dollar, Nixon and Treasury Secretary John Connally attempted to appear to be driving decisions for the domestic electorate. The temporary float of exchange rates as part of the NEP inevitably became permanent as a result of Nixon's choice of advisors and his preferences for open capital flows and stimulative monetary policy.",
     "accessed": {
      "day": 9,
      "month": 2,
      "year": 2021
     },
     "author": [
      {
       "family": "Butkiewicz",
       "given": "James L."
      },
      {
       "family": "Ohlmacher",
       "given": "Scott"
      }
     ],
     "container-title": "The Economic History Review",
     "id": "14286898/49X25EH2",
     "issue": "n/a",
     "language": "en",
     "shortTitle": "Ending Bretton Woods",
     "title": "Ending Bretton Woods: evidence from the Nixon tapes†",
     "title-short": "Ending Bretton Woods",
     "type": "article-journal",
     "volume": "n/a"
    },
    "14286898/4AIUVZB6": {
     "DOI": "10.5771/0947-9511-2013-1-5",
     "URL": "http://www.nomos-elibrary.de/index.php?doi=10.5771/0947-9511-2013-1-5",
     "accessed": {
      "day": 9,
      "month": 10,
      "year": 2020
     },
     "author": [
      {
       "family": "Geary",
       "given": "Michael J."
      },
      {
       "family": "Germond",
       "given": "Carine S."
      },
      {
       "family": "Patel",
       "given": "Kiran Klaus"
      }
     ],
     "container-title": "Journal of European Integration History",
     "id": "14286898/4AIUVZB6",
     "issue": "1",
     "issued": {
      "year": 2013
     },
     "page": "5–10",
     "page-first": "5",
     "shortTitle": "The Maastricht Treaty",
     "title": "The Maastricht Treaty: Negotiations and Consequences in Historical Perspective – Introduction",
     "title-short": "The Maastricht Treaty",
     "type": "article-journal",
     "volume": "19"
    },
    "14286898/88PNZ7P8": {
     "URL": "http://www.cairn.info/article.php?ID_ARTICLE=HES_114_0003",
     "accessed": {
      "day": 4,
      "month": 3,
      "year": 2014
     },
     "author": [
      {
       "family": "Clavert",
       "given": "Frédéric"
      },
      {
       "family": "Feiertag",
       "given": "Olivier"
      }
     ],
     "container-title": "Histoire, économie & société",
     "id": "14286898/88PNZ7P8",
     "issue": "4",
     "issued": {
      "month": 12,
      "year": 2011
     },
     "language": "fr",
     "page": "3–9",
     "page-first": "3",
     "shortTitle": "Les banquiers centraux dans la construction européenne",
     "title": "Les banquiers centraux dans la construction européenne : introduction",
     "title-short": "Les banquiers centraux dans la construction européenne",
     "type": "article-journal",
     "volume": "30e année"
    },
    "14286898/BPDB4SFF": {
     "ISBN": "978-3-11-043029-5",
     "URL": "http://www.degruyter.com/document/doi/10.1515/9783110430295-040/html",
     "accessed": {
      "day": 28,
      "month": 4,
      "year": 2022
     },
     "author": [
      {
       "family": "Clavert",
       "given": "Frédéric"
      },
      {
       "family": "Wieneke",
       "given": "Lars"
      }
     ],
     "container-title": "Handbook of Digital Public History",
     "editor": [
      {
       "family": "Noiret",
       "given": "Serge"
      },
      {
       "family": "Tebeau",
       "given": "Mark"
      },
      {
       "family": "Zaagsma",
       "given": "Gerben"
      }
     ],
     "id": "14286898/BPDB4SFF",
     "issued": {
      "month": 4,
      "year": 2022
     },
     "language": "en",
     "note": "DOI: 10.1515/9783110430295-040",
     "page": "447–458",
     "page-first": "447",
     "publisher": "De Gruyter Oldenbourg",
     "title": "Big Data and Public History",
     "type": "chapter"
    },
    "14286898/ESREKQ9Y": {
     "URL": "http://dx.doi.org/10.1080/135017699343739",
     "abstract": "The agreement on economic and monetary union (EMU) in the European Union (EU) is a significant move in the integration process. In explanations as to why EMU was accepted and incorporated in the Maastricht Treaty, little attention has been given to the role of monetary experts in this process. This article examines their role in the creation of EMU by focusing on the Delors Committee that wrote the blueprint for EMU which was inserted in the Maastricht Treaty with few amendments. The article discusses whether it was necessary for the EMU momentum that these monetary experts held similar ideas about how European monetary integration had to proceed. Furthermore, it investigates whether the Delors Committee fits the definition of an 'epistemic community' (Haas 1992) and concludes that this is indeed the case. The article closes by suggesting that this conceptual tool could enlarge our understanding of the role of expert committees in the process of European public policy-making.",
     "accessed": {
      "day": 30,
      "month": 9,
      "year": 2014
     },
     "author": [
      {
       "family": "Verdun",
       "given": "Amy"
      }
     ],
     "container-title": "Journal of European Public Policy",
     "id": "14286898/ESREKQ9Y",
     "issue": "2",
     "issued": {
      "month": 1,
      "year": 1999
     },
     "page": "308–328",
     "page-first": "308",
     "shortTitle": "The role of the Delors Committee in the creation of EMU",
     "title": "The role of the Delors Committee in the creation of EMU: an epistemic community?",
     "title-short": "The role of the Delors Committee in the creation of EMU",
     "type": "article-journal",
     "volume": "6"
    },
    "14286898/F4JPP4FL": {
     "author": [
      {
       "family": "Bozo",
       "given": "Frédéric"
      }
     ],
     "container-title": "Reshaping Europe: Towards a Political, Economic and Monetary Union, 1984-1989",
     "editor": [
      {
       "family": "Gehler",
       "given": "Michael"
      },
      {
       "family": "Loth",
       "given": "Wilfried"
      }
     ],
     "event-place": "Baden-Baden",
     "id": "14286898/F4JPP4FL",
     "issued": {
      "year": 2020
     },
     "page": "283–330",
     "page-first": "283",
     "publisher": "Nomos",
     "publisher-place": "Baden-Baden",
     "title": "In search of the Holy Grail: France and European Monetary Unification, 1984-1989",
     "type": "chapter"
    },
    "14286898/M7TTE5P4": {
     "ISBN": "978-2-7246-1178-6",
     "accessed": {
      "day": 9,
      "month": 10,
      "year": 2020
     },
     "author": [
      {
       "family": "James",
       "given": "Harold"
      }
     ],
     "container-title": "Les banques centrales à l'échelle du monde: l’internationalisation des banques centrales des débuts du xxe siècle à nos jours",
     "editor": [
      {
       "family": "Margairaz",
       "given": "Michel"
      },
      {
       "family": "Feiertag",
       "given": "Olivier"
      }
     ],
     "event-place": "Paris",
     "id": "14286898/M7TTE5P4",
     "issued": {
      "year": 2012
     },
     "language": "en",
     "page": "193–220",
     "page-first": "193",
     "publisher": "Presses de Sciences Po",
     "publisher-place": "Paris",
     "title": "Making a central bank without a state",
     "type": "chapter"
    },
    "14286898/PCBQZZ9M": {
     "author": [
      {
       "family": "James",
       "given": "Harold"
      }
     ],
     "container-title": "Journal of European Integration History",
     "id": "14286898/PCBQZZ9M",
     "issue": "1",
     "issued": {
      "year": 2013
     },
     "page": "105–122",
     "page-first": "105",
     "title": "Designing a Central Bank in the Run-Up to Maastricht",
     "type": "article-journal",
     "volume": "19"
    },
    "14286898/PZ7Y5QYP": {
     "ISBN": "978-2-7246-1178-6",
     "accessed": {
      "day": 9,
      "month": 10,
      "year": 2020
     },
     "author": [
      {
       "family": "Feiertag",
       "given": "Olivier"
      }
     ],
     "container-title": "Les banques centrales à l'échelle du monde: l’internationalisation des banques centrales des débuts du xxe siècle à nos jours",
     "editor": [
      {
       "family": "Feiertag",
       "given": "Olivier"
      },
      {
       "family": "Margairaz",
       "given": "Michel"
      }
     ],
     "event-place": "Paris",
     "id": "14286898/PZ7Y5QYP",
     "issued": {
      "year": 2012
     },
     "language": "fr",
     "page": "221–250",
     "page-first": "221",
     "publisher": "Presses de Sciences Po",
     "publisher-place": "Paris",
     "title": "Le tournant de la mondialisation: La Banque de France et le comité Delors (1988-1989)",
     "type": "chapter"
    },
    "14286898/WIFIUGXD": {
     "ISBN": "0-674-06683-9",
     "author": [
      {
       "family": "James",
       "given": "Harold"
      }
     ],
     "id": "14286898/WIFIUGXD",
     "issued": {
      "year": 2012
     },
     "publisher": "Belknap Press of Harvard University Press",
     "shortTitle": "Making the European monetary union",
     "title": "Making the European monetary union: the role of the Committee of Central Bank Governors and the origins of the European Central Bank",
     "title-short": "Making the European monetary union",
     "type": "book"
    },
    "14286898/XBZ8M5FL": {
     "author": [
      {
       "family": "Weber",
       "given": "Matthias"
      }
     ],
     "event-place": "Frankfurt",
     "id": "14286898/XBZ8M5FL",
     "issued": {
      "year": 2021
     },
     "publisher": "European Central Bank",
     "publisher-place": "Frankfurt",
     "title": "Inventory of the audio recordings of the meetings of the Committee for the Study of Economic and Monetary Union (Delors Committee), September 1988-April 1989",
     "type": "report"
    },
    "14286898/Y49HD6AV": {
     "ISBN": "9780674066830",
     "abstract": "\"Europe's financial crisis cannot be blamed on the Euro, Harold James contends in this probing exploration of the whys, whens, whos, and what-ifs of European monetary union. The current crisis goes deeper, to a series of problems that were debated but not resolved at the time of the Euro's invention. Since the 1960s, Europeans had been looking for a way to address two conundrums simultaneously: the dollar{8217}s privileged position in the international monetary system, and Germany's persistent current account surpluses in Europe. The Euro was created under a politically independent central bank to meet the primary goal of price stability. But while the monetary side of union was clearly conceived, other prerequisites of stability were beyond the reach of technocratic central bankers. Issues such as fiscal rules and Europe-wide banking supervision and regulation were thoroughly discussed during planning in the late 1980s and 1990s, but remained in the hands of member states. That omission proved to be a cause of crisis decades later. Here is an account that helps readers understand the European monetary crisis in depth, by tracing behind-the-scenes negotiations using an array of sources unavailable until now, notably from the European Community's Committee of Central Bank Governors and the Delors Committee of 1988{8211}89, which set out the plan for how Europe could reach its goal of monetary union. As this foundational study makes clear, it was the constant friction between politicians and technocrats that shaped the Euro. And, Euro or no Euro, this clash will continue into the future.\"--The dust-jacket front flap.",
     "author": [
      {
       "family": "James",
       "given": "Harold"
      }
     ],
     "event-place": "Cambridge, MA",
     "id": "14286898/Y49HD6AV",
     "issued": {
      "year": 2012
     },
     "language": "eng",
     "note": "OCLC: 792886903",
     "number-of-pages": "567",
     "publisher": "Harvard University Press",
     "publisher-place": "Cambridge, MA",
     "title": "Making the European monetary union",
     "type": "book"
    },
    "14286898/YZW4P3TU": {
     "author": [
      {
       "family": "Verdun",
       "given": "Amy"
      }
     ],
     "container-title": "Journal of European Integration",
     "id": "14286898/YZW4P3TU",
     "issue": "1",
     "issued": {
      "year": 1996
     },
     "page": "59–81",
     "page-first": "59",
     "title": "An “asymmetrical” economic and monetary union in the EU: Perceptions of monetary authorities and social partners",
     "type": "article-journal",
     "volume": "20"
    },
    "undefined": {
     "author": [
      {
       "family": "Verdun",
       "given": "Amy"
      }
     ],
     "container-title": "Journal of European Integration",
     "id": "undefined",
     "issue": "1",
     "issued": {
      "year": 1996
     },
     "page": "59–81",
     "page-first": "59",
     "title": "An “asymmetrical” economic and monetary union in the EU: Perceptions of monetary authorities and social partners",
     "type": "article-journal",
     "volume": "20"
    }
   }
  },
  "kernelspec": {
   "display_name": "Python 3",
   "language": "python",
   "name": "python3"
  },
  "language_info": {
   "codemirror_mode": {
    "name": "ipython",
    "version": 3
   },
   "file_extension": ".py",
   "mimetype": "text/x-python",
   "name": "python",
   "nbconvert_exporter": "python",
   "pygments_lexer": "ipython3",
   "version": "3.8.5"
  },
  "toc": {
   "base_numbering": 1,
   "nav_menu": {},
   "number_sections": true,
   "sideBar": true,
   "skip_h1_title": false,
   "title_cell": "Table of Contents",
   "title_sidebar": "Contents",
   "toc_cell": false,
   "toc_position": {
    "height": "calc(100% - 180px)",
    "left": "10px",
    "top": "150px",
    "width": "282.422px"
   },
   "toc_section_display": true,
   "toc_window_display": true
  },
  "varInspector": {
   "cols": {
    "lenName": 16,
    "lenType": 16,
    "lenVar": 40
   },
   "kernels_config": {
    "python": {
     "delete_cmd_postfix": "",
     "delete_cmd_prefix": "del ",
     "library": "var_list.py",
     "varRefreshCmd": "print(var_dic_list())"
    },
    "r": {
     "delete_cmd_postfix": ") ",
     "delete_cmd_prefix": "rm(",
     "library": "var_list.r",
     "varRefreshCmd": "cat(var_dic_list()) "
    }
   },
   "types_to_exclude": [
    "module",
    "function",
    "builtin_function_or_method",
    "instance",
    "_Feature"
   ],
   "window_display": false
  }
 },
 "nbformat": 4,
 "nbformat_minor": 4
}
